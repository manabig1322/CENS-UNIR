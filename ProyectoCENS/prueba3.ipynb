{
 "cells": [
  {
   "cell_type": "code",
   "execution_count": 1,
   "id": "0171de35",
   "metadata": {},
   "outputs": [],
   "source": [
    "#importando librerias\n",
    "import pandas as pd\n",
    "import matplotlib.pyplot as plt\n",
    "import numpy as np\n",
    "import plotly.express as px\n",
    "import os\n",
    "import seaborn as sns\n",
    "from scipy.interpolate import interp1d\n",
    "import matplotlib.lines as mlines"
   ]
  },
  {
   "cell_type": "code",
   "execution_count": 2,
   "id": "48b33659",
   "metadata": {},
   "outputs": [],
   "source": [
    "# Cargar el conjunto de datos \n",
    "df_2025_directivo = pd.read_excel('raw/datos_2025_final.xlsx', sheet_name=\"Directivos\")\n",
    "df_2025_miembro = pd.read_excel('raw/datos_2025_final.xlsx', sheet_name=\"Miembros\")\n",
    "df_2023 = pd.read_excel('raw/datos_2023.xlsx')\n"
   ]
  },
  {
   "cell_type": "code",
   "execution_count": 3,
   "id": "f891d9ee",
   "metadata": {},
   "outputs": [],
   "source": [
    "# Formar 3 datasets: Total, directivos y miembros\n",
    "\n",
    "\n",
    "# Cálculo del promedio por dimensión agrupando por persona-componente\n",
    "# Cálculo del promedio por componente organizando por componente\n",
    "df_2025_directivo['Categoria'] = \"Directivo\"\n",
    "df_2025_miembro['Categoria'] = \"Miembro\"\n",
    "\n",
    "df_2025 = pd.concat([df_2025_directivo, df_2025_miembro], axis=0, ignore_index=True)\n"
   ]
  },
  {
   "cell_type": "code",
   "execution_count": 4,
   "id": "2a85c945",
   "metadata": {},
   "outputs": [
    {
     "data": {
      "text/plain": [
       "3896"
      ]
     },
     "execution_count": 4,
     "metadata": {},
     "output_type": "execute_result"
    }
   ],
   "source": [
    "# Excluir a las personas que no tienen mayúsculas en todas sus letras\n",
    "df_2025 = df_2025[df_2025['Persona'].str.isupper()]\n",
    "\n",
    "# Prueba\n",
    "len(df_2025)\n",
    "# 2638"
   ]
  },
  {
   "cell_type": "code",
   "execution_count": 5,
   "id": "e5d0a4dd",
   "metadata": {},
   "outputs": [],
   "source": [
    "# cambiar los nombres de la Dimension\n",
    "reemplazos = {\n",
    "    \"1. Dimensión de la Estrategía y Dirección\": \"1. Estrategia\",\n",
    "    \"2. Dimensión Humana\": \"2. Humana\",\n",
    "    \"3. Dimensión de los Procesos de Gestión del Conocimiento\": \"3. Procesos\",\n",
    "    \"4. Dimensión de la Tecnología\": \"4. Tecnología\",\n",
    "    \"5. Dimensión de Indicadores\": \"5. Indicadores\"\n",
    "}\n",
    "\n",
    "df_2025[\"Dimension\"] = df_2025[\"Dimension\"].replace(reemplazos)\n",
    "\n",
    "df_2023[\"Dimension\"] = df_2023[\"Dimension\"].replace(reemplazos)\n",
    "\n"
   ]
  },
  {
   "cell_type": "code",
   "execution_count": 6,
   "id": "15f7334f",
   "metadata": {},
   "outputs": [
    {
     "name": "stdout",
     "output_type": "stream",
     "text": [
      "3620\n"
     ]
    }
   ],
   "source": [
    "df_likert = df_2025[(df_2025['TipoPregunta'] == 'Likert') | (df_2025['TipoPregunta'] == 'Texto')]\n",
    "print(len(df_likert))"
   ]
  },
  {
   "cell_type": "code",
   "execution_count": 7,
   "id": "0a6a7d81",
   "metadata": {},
   "outputs": [
    {
     "name": "stdout",
     "output_type": "stream",
     "text": [
      "3553\n"
     ]
    }
   ],
   "source": [
    "df_likert = df_likert[~((df_likert['TipoPregunta'] == \"Texto\") & ((df_likert['Valor'] == 3) | (df_likert['Valor'].isna())))]\n",
    "print(len(df_likert))"
   ]
  },
  {
   "cell_type": "code",
   "execution_count": 8,
   "id": "d483ce02",
   "metadata": {},
   "outputs": [],
   "source": [
    "# Seleccionar preguntas Likert\n",
    "\n",
    "# Prueba\n",
    "len(df_likert)\n",
    "# 1723\n",
    "\n",
    "df_likert['Valor'] = pd.to_numeric(df_likert['Valor'], errors='coerce')"
   ]
  },
  {
   "cell_type": "code",
   "execution_count": 9,
   "id": "78016aa4",
   "metadata": {},
   "outputs": [
    {
     "name": "stdout",
     "output_type": "stream",
     "text": [
      "3553\n"
     ]
    }
   ],
   "source": [
    "print(len(df_likert))"
   ]
  },
  {
   "cell_type": "markdown",
   "id": "d9a717b2",
   "metadata": {},
   "source": [
    "# Promedio por Dimensión"
   ]
  },
  {
   "cell_type": "code",
   "execution_count": 10,
   "id": "3babb928",
   "metadata": {},
   "outputs": [],
   "source": [
    "#función promedio por dimension o componente\n",
    "def promedio_dimension(DataSet, grupo = ['Dimension']):\n",
    "    \n",
    "    # 1. Promedia el resultados por persona componeten y dimension\n",
    "    promedio_dimension_componente_persona = DataSet.groupby(['Dimension','Subdimension', 'Persona'])['Valor'].mean().reset_index()\n",
    "    \n",
    "    # 2. Promedia esos resultados por dimension y componetn\n",
    "    promedio_dimension = promedio_dimension_componente_persona.groupby(grupo)['Valor'].mean().reset_index()\n",
    "  \n",
    "    return promedio_dimension"
   ]
  },
  {
   "cell_type": "code",
   "execution_count": 11,
   "id": "55c3a1e0",
   "metadata": {},
   "outputs": [],
   "source": [
    "# Generar tabla de promedios totales por dimensión\n",
    "df_promedio_dim = promedio_dimension(df_likert)\n",
    "\n",
    "df_promedio_dim['Valor'] = df_promedio_dim['Valor'].astype(float).round(1)\n",
    "\n",
    "# cambiar los nombres de la Dimension\n",
    "reemplazos = {\n",
    "    \"1. Dimensión de la Estrategía y Dirección\": \"Estrategia\",\n",
    "    \"2. Dimensión Humana\": \"Humana\",\n",
    "    \"3. Dimensión de los Procesos de Gestión del Conocimiento\": \"Procesos\",\n",
    "    \"4. Dimensión de la Tecnología\": \"Tecnología\",\n",
    "    \"5. Dimensión de Indicadores\": \"Indicadores\"\n",
    "}\n",
    "\n",
    "df_promedio_dim[\"Dimension\"] = df_promedio_dim[\"Dimension\"].replace(reemplazos)\n"
   ]
  },
  {
   "cell_type": "code",
   "execution_count": 12,
   "id": "89c6f9fb",
   "metadata": {},
   "outputs": [],
   "source": [
    "# Generar tablas de promedios por dimension por directivo\n",
    "df_promedio_dim_dir = promedio_dimension(df_likert[df_likert['Categoria'] == \"Directivo\"])\n",
    "df_promedio_dim_dir['Categoria'] = \"Directivo\"\n",
    "\n",
    "#  Generar tablas de promedios por dimension por miembro\n",
    "df_promedio_dim_mie = promedio_dimension(df_likert[df_likert['Categoria'] == \"Miembro\"])\n",
    "df_promedio_dim_mie['Categoria'] = \"Miembro\"\n",
    "\n",
    "#concatenar tablas\n",
    "df_promedio_dim_cat = pd.concat([df_promedio_dim_dir, df_promedio_dim_mie], axis=0, ignore_index=True)\n",
    "\n",
    "# Pasar a un decimal\n",
    "df_promedio_dim_cat['Valor'] = df_promedio_dim_cat['Valor'].astype(float).round(1)\n"
   ]
  },
  {
   "cell_type": "code",
   "execution_count": 13,
   "id": "c399e1e8",
   "metadata": {},
   "outputs": [],
   "source": [
    "# graficar radar chart de dimensión directivos vs miembros\n",
    "def generar_grafico_radar(df, nombre_archivo, theta, color = None):\n",
    "    fig = px.line_polar(df, \n",
    "                        r = \"Valor\",\n",
    "                        theta = theta,\n",
    "                        line_close = True,\n",
    "                        color = color,\n",
    "                        text= \"Valor\",\n",
    "                        template= \"none\"\n",
    "                        )\n",
    "\n",
    "    # Personalizar el eje radial\n",
    "    fig.update_layout(\n",
    "        polar=dict(\n",
    "            radialaxis=dict(\n",
    "                visible=True,\n",
    "                range=[1, 5],\n",
    "                dtick=1  # separación entre líneas\n",
    "            )\n",
    "        )\n",
    "    )\n",
    "\n",
    "    fig.update_layout(\n",
    "            legend_title_text=''\n",
    "    )\n",
    "\n",
    "    fig.update_traces(fill='toself',            # Opcional: rellena el área\n",
    "        textposition='top left')  # opcional, para rellenar el área\n",
    "\n",
    "    ruta_salida = \"plots3/\"\n",
    "    ruta_completa = os.path.join(ruta_salida, f\"{nombre_archivo}.png\")\n",
    "    fig.write_image(ruta_completa, width=800, height=600)"
   ]
  },
  {
   "cell_type": "code",
   "execution_count": 14,
   "id": "73145c1e",
   "metadata": {},
   "outputs": [],
   "source": [
    "generar_grafico_radar(df_promedio_dim, nombre_archivo=\"promedio_total_dimension\", theta = \"Dimension\")"
   ]
  },
  {
   "cell_type": "code",
   "execution_count": 15,
   "id": "0f077984",
   "metadata": {},
   "outputs": [],
   "source": [
    "generar_grafico_radar(df_promedio_dim_cat, nombre_archivo=\"promedio_cat_dimension\", theta = \"Dimension\", color = 'Categoria')"
   ]
  },
  {
   "cell_type": "markdown",
   "id": "02e9272f",
   "metadata": {},
   "source": [
    "## Promedio por componente"
   ]
  },
  {
   "cell_type": "code",
   "execution_count": 16,
   "id": "19fc5a4b",
   "metadata": {},
   "outputs": [],
   "source": [
    "# Generar las tablas total y vs\n",
    "df_comp_total = promedio_dimension(df_likert, grupo = ['Dimension','Subdimension'])\n",
    "\n",
    "# Generar las tablas vs\n",
    "df_comp_dir = promedio_dimension(df_likert[df_likert['Categoria'] == \"Directivo\"], grupo = ['Dimension','Subdimension'])\n",
    "df_comp_miem = promedio_dimension(df_likert[df_likert['Categoria'] == \"Miembro\"], grupo = ['Dimension','Subdimension'])\n",
    "\n",
    "# Concatenar tablas\n",
    "df_comp_dir['Categoria'] = \"Directivo\"\n",
    "df_comp_miem['Categoria'] = \"Miembro\"\n",
    "df_comp_vs = pd.concat([df_comp_dir, df_comp_miem])\n"
   ]
  },
  {
   "cell_type": "code",
   "execution_count": 17,
   "id": "7c8edcc0",
   "metadata": {},
   "outputs": [],
   "source": [
    "# Agregar las filas faltante de componentes y agregar el valor 1\n",
    "df_comp_total.loc[len(df_comp_total)] = [\"1. Estrategia\", \"1.1 Responsable\", 1]\n",
    "# Agregar las filas faltante de componentes y agregar el valor 1\n",
    "df_comp_total.loc[len(df_comp_total)] = [\"1. Estrategia\", \"1.4 Presupuesto\", 1]\n",
    "# Agregar las filas faltante de componentes y agregar el valor 1\n",
    "df_comp_total.loc[len(df_comp_total)] = [\"2. Humana\", \"2.4 Redes de conocimiento\", 1]\n"
   ]
  },
  {
   "cell_type": "code",
   "execution_count": 18,
   "id": "0f218a76",
   "metadata": {},
   "outputs": [],
   "source": [
    "# Agregar las filas faltante de componentes y agregar el valor 1\n",
    "df_comp_vs.loc[len(df_comp_vs)] = [\"1. Estrategia\", \"1.1 Responsable\", 1, \"Directivo\"]\n",
    "\n",
    "df_comp_vs.loc[len(df_comp_vs)] = [\"1. Estrategia\", \"1.1 Responsable\", 1, \"Miembro\"]\n",
    "\n",
    "df_comp_vs.loc[len(df_comp_vs)] = [\"1. Estrategia\", \"1.4 Presupuesto\", 1, \"Directivo\"]\n",
    "\n",
    "df_comp_vs.loc[len(df_comp_vs)] = [\"1. Estrategia\", \"1.4 Presupuesto\", 1, \"Miembro\"]\n",
    "\n",
    "df_comp_vs.loc[len(df_comp_vs)] = [\"2. Humana\", \"2.4 Redes de conocimiento\", 1, \"Directivo\"]\n",
    "\n",
    "df_comp_vs.loc[len(df_comp_vs)] = [\"2. Humana\", \"2.4 Redes de conocimiento\", 1, \"Miembro\"]\n"
   ]
  },
  {
   "cell_type": "code",
   "execution_count": 19,
   "id": "c53fcd36",
   "metadata": {},
   "outputs": [],
   "source": [
    "# Convertir a valor numérico y redondear a un decimal\n",
    "df_comp_total['Valor'] = df_comp_total['Valor'].astype(float).round(1)\n",
    "\n",
    "# Ordenar \n",
    "df_comp_total = df_comp_total.sort_values(by=[\"Dimension\", \"Subdimension\"])\n",
    "\n",
    "# Convertir a valor numérico y redondear a un decimal\n",
    "df_comp_vs['Valor'] = df_comp_vs['Valor'].astype(float).round(1)\n",
    "\n",
    "# Ordenar \n",
    "df_comp_vs = df_comp_vs.sort_values(by=[\"Dimension\", \"Subdimension\"])"
   ]
  },
  {
   "cell_type": "code",
   "execution_count": 20,
   "id": "fef11702",
   "metadata": {},
   "outputs": [],
   "source": [
    "# Reemplazar el nombre del componente 2 de la dimensión 1\n",
    "reemplazos_comp = {\n",
    "    \"1.3 Definición del Gestión del Conocimiento en la organización \":\"1.3 Definición de GC\",\n",
    "    \"2.5 Motivación e incentivos\": \"2.5 Motivación\",\n",
    "    \"3.1 Matriz de conocimiento estratégico\": \"3.1 Matriz\",\n",
    "    \"3.3 Procesos de gestión del conocimiento\": \"3.3 Procesos de GC\",\n",
    "    \"5.2 Indicadores de generación de valor\": \"5.2 Ind. de valor\"\n",
    "}\n",
    "\n",
    "# Reemplazar en la tabla de totales\n",
    "df_comp_total[\"Subdimension\"] = df_comp_total[\"Subdimension\"].replace(reemplazos_comp)\n",
    "\n",
    "# Reemplazar en la tabla de vs\n",
    "df_comp_vs[\"Subdimension\"] = df_comp_vs[\"Subdimension\"].replace(reemplazos_comp)"
   ]
  },
  {
   "cell_type": "markdown",
   "id": "fd394b1c",
   "metadata": {},
   "source": [
    "### Dimensión Estrategia"
   ]
  },
  {
   "cell_type": "code",
   "execution_count": 21,
   "id": "efbbd1c2",
   "metadata": {},
   "outputs": [],
   "source": [
    "generar_grafico_radar(df_comp_vs[df_comp_vs['Dimension'] == \"1. Estrategia\"],\n",
    "                      nombre_archivo=\"prom_estrategia_vs\",\n",
    "                      theta=\"Subdimension\",\n",
    "                      color=\"Categoria\")"
   ]
  },
  {
   "cell_type": "code",
   "execution_count": 22,
   "id": "40c03627",
   "metadata": {},
   "outputs": [],
   "source": [
    "generar_grafico_radar(df_comp_total[df_comp_total['Dimension'] == \"1. Estrategia\"], \n",
    "                      nombre_archivo = 'prom_estrategia_total', \n",
    "                      theta=\"Subdimension\")"
   ]
  },
  {
   "cell_type": "markdown",
   "id": "8620af00",
   "metadata": {},
   "source": [
    "### Dimensión Humana"
   ]
  },
  {
   "cell_type": "code",
   "execution_count": 23,
   "id": "4a48d1ee",
   "metadata": {},
   "outputs": [],
   "source": [
    "generar_grafico_radar(df_comp_vs[df_comp_vs['Dimension'] == \"2. Humana\"],\n",
    "                      nombre_archivo=\"prom_humana_vs\",\n",
    "                      theta=\"Subdimension\",\n",
    "                      color=\"Categoria\")"
   ]
  },
  {
   "cell_type": "code",
   "execution_count": 24,
   "id": "7227d499",
   "metadata": {},
   "outputs": [],
   "source": [
    "generar_grafico_radar(df_comp_total[df_comp_total['Dimension'] == \"2. Humana\"], \n",
    "                      nombre_archivo = 'prom_humana_total', \n",
    "                      theta=\"Subdimension\")"
   ]
  },
  {
   "cell_type": "markdown",
   "id": "2fa74ab0",
   "metadata": {},
   "source": [
    "### Dimensión Procesos"
   ]
  },
  {
   "cell_type": "code",
   "execution_count": 25,
   "id": "482f40a9",
   "metadata": {},
   "outputs": [],
   "source": [
    "generar_grafico_radar(df_comp_vs[df_comp_vs['Dimension'] == \"3. Procesos\"],\n",
    "                      nombre_archivo=\"prom_procesos_vs\",\n",
    "                      theta=\"Subdimension\",\n",
    "                      color=\"Categoria\")"
   ]
  },
  {
   "cell_type": "code",
   "execution_count": 26,
   "id": "316adcc4",
   "metadata": {},
   "outputs": [],
   "source": [
    "generar_grafico_radar(df_comp_total[df_comp_total['Dimension'] == \"3. Procesos\"], \n",
    "                      nombre_archivo = 'prom_procesos_total', \n",
    "                      theta=\"Subdimension\")"
   ]
  },
  {
   "cell_type": "markdown",
   "id": "45b3e9e9",
   "metadata": {},
   "source": [
    "### Dimensión Tecnología"
   ]
  },
  {
   "cell_type": "code",
   "execution_count": 27,
   "id": "3e7cf3f0",
   "metadata": {},
   "outputs": [],
   "source": [
    "# Cocnatenar tablas de total y vs\n",
    "df_comp_total['Categoria'] = \"Total\"\n",
    "df_comp_concat = pd.concat([df_comp_vs, df_comp_total], axis = 0, ignore_index=True)"
   ]
  },
  {
   "cell_type": "code",
   "execution_count": 28,
   "id": "57a99a10",
   "metadata": {},
   "outputs": [
    {
     "data": {
      "image/png": "[encoded data removed]",
      "text/plain": [
       "<Figure size 1000x600 with 1 Axes>"
      ]
     },
     "metadata": {},
     "output_type": "display_data"
    }
   ],
   "source": [
    "# Generar gráfico de barras\n",
    "# Crear el gráfico\n",
    "plt.figure(figsize=(10, 6))\n",
    "ax = sns.barplot(data=df_comp_concat[df_comp_concat['Dimension'] == \"4. Tecnología\"], x='Subdimension', y='Valor', hue='Categoria')\n",
    "\n",
    "# Agregar los valores arriba de las barras\n",
    "for container in ax.containers:\n",
    "    ax.bar_label(container, fmt='%.1f', padding=3)\n",
    "\n",
    "# Personalizar el gráfico\n",
    "plt.xlabel('Componente')\n",
    "plt.ylabel('Promedio')\n",
    "plt.legend(title='')\n",
    "plt.ylim(1, 5)\n",
    "plt.tight_layout()\n",
    "plt.savefig(\"plots3/prom_tecnologia.png\", dpi=300, bbox_inches='tight')\n",
    "plt.show()"
   ]
  },
  {
   "cell_type": "code",
   "execution_count": 29,
   "id": "5a11a5c4",
   "metadata": {},
   "outputs": [],
   "source": [
    "generar_grafico_radar(df_comp_concat[(df_comp_concat['Dimension'] == \"4. Tecnología\") & (df_comp_concat['Categoria']=='Total')], nombre_archivo=\"promedio_tecnologia_radar\", theta=\"Subdimension\")"
   ]
  },
  {
   "cell_type": "markdown",
   "id": "6405e0e8",
   "metadata": {},
   "source": [
    "### Dimensión Indicadores"
   ]
  },
  {
   "cell_type": "code",
   "execution_count": 30,
   "id": "f50b7228",
   "metadata": {},
   "outputs": [
    {
     "data": {
      "image/png": "[encoded data removed]",
      "text/plain": [
       "<Figure size 1000x600 with 1 Axes>"
      ]
     },
     "metadata": {},
     "output_type": "display_data"
    }
   ],
   "source": [
    "# Generar gráfico de barras\n",
    "# Crear el gráfico\n",
    "plt.figure(figsize=(10, 6))\n",
    "ax = sns.barplot(data=df_comp_concat[df_comp_concat['Dimension'] == \"5. Indicadores\"], x='Subdimension', y='Valor', hue='Categoria')\n",
    "\n",
    "# Agregar los valores arriba de las barras\n",
    "for container in ax.containers:\n",
    "    ax.bar_label(container, fmt='%.1f', padding=3)\n",
    "\n",
    "# Personalizar el gráfico\n",
    "plt.xlabel('Componente')\n",
    "plt.ylabel('Promedio')\n",
    "plt.legend(title='')\n",
    "plt.ylim(1, 5)\n",
    "plt.tight_layout()\n",
    "plt.savefig(\"plots3/prom_indicadores.png\", dpi=300, bbox_inches='tight')\n",
    "plt.show()"
   ]
  },
  {
   "cell_type": "code",
   "execution_count": 31,
   "id": "ebcf82fe",
   "metadata": {},
   "outputs": [],
   "source": [
    "generar_grafico_radar(df_comp_concat[(df_comp_concat['Dimension'] == \"5. Indicadores\") & (df_comp_concat['Categoria']=='Total')], nombre_archivo=\"promedio_indicadores_radar\", theta=\"Subdimension\")"
   ]
  },
  {
   "cell_type": "markdown",
   "id": "4350e66c",
   "metadata": {},
   "source": [
    "## Análisis de motivación y satisfacción"
   ]
  },
  {
   "cell_type": "markdown",
   "id": "07c880c7",
   "metadata": {},
   "source": [
    "### Directivos"
   ]
  },
  {
   "cell_type": "markdown",
   "id": "fe8aba7b",
   "metadata": {},
   "source": [
    "#### Grafico 7.1"
   ]
  },
  {
   "cell_type": "code",
   "execution_count": 32,
   "id": "936611e0",
   "metadata": {},
   "outputs": [
    {
     "name": "stderr",
     "output_type": "stream",
     "text": [
      "C:\\Users\\User\\AppData\\Local\\Temp\\ipykernel_20484\\3737751306.py:4: SettingWithCopyWarning:\n",
      "\n",
      "\n",
      "A value is trying to be set on a copy of a slice from a DataFrame.\n",
      "Try using .loc[row_indexer,col_indexer] = value instead\n",
      "\n",
      "See the caveats in the documentation: https://pandas.pydata.org/pandas-docs/stable/user_guide/indexing.html#returning-a-view-versus-a-copy\n",
      "\n"
     ]
    }
   ],
   "source": [
    "# Seleccionar la pregunta \n",
    "df_7_1 = df_likert[df_likert['Pregunta'] == '¿Cuán de acuerdo está usted con esta afirmación: \"Existe motivación y entusiasmo por implementar la gestión del conocimiento en la empresa \"? ']\n",
    "\n",
    "df_7_1['Valor'] = df_7_1['Valor'].astype(int)"
   ]
  },
  {
   "cell_type": "code",
   "execution_count": 33,
   "id": "8930f9e7",
   "metadata": {},
   "outputs": [],
   "source": [
    "# definir función para elaborar el gráfico\n",
    "\n",
    "def preguntas_likert(df, nombre_archivo):\n",
    "    # Contar la cantidad de respuestas por valor (1 al 5)\n",
    "    conteo = df['Valor'].value_counts().sort_index()\n",
    "\n",
    "    # Asegurarte de que se incluyan todos los valores del 1 al 5, aunque alguno no esté presente\n",
    "    conteo = conteo.reindex(range(1, 6), fill_value=0)\n",
    "\n",
    "    # Crear gráfico de barras con seaborn\n",
    "    plt.figure(figsize=(8, 6))\n",
    "    ax = sns.countplot(data=df, x='Valor', palette=\"Blues\", order=[1, 2, 3, 4, 5])\n",
    "    plt.xlabel('')\n",
    "    plt.ylabel('Frecuencia')\n",
    "    plt.title('')\n",
    "    plt.grid(axis='y', linestyle='', alpha=0.7)\n",
    "\n",
    "    # Agregar los valores encima de las barras\n",
    "    for p in ax.patches:\n",
    "        height = p.get_height()  # Obtener la altura de la barra\n",
    "        ax.text(p.get_x() + p.get_width() / 2, height + 0.1, str(int(height)),  # Posicionar el texto\n",
    "                ha=\"center\", va=\"bottom\", fontsize=8)  # Ajusta el tamaño de la fuente aquí\n",
    "\n",
    "    # Guardar el gráfico\n",
    "    plt.tight_layout()\n",
    "    ruta_salida = \"plots3/\"\n",
    "    ruta_completa = os.path.join(ruta_salida, f\"{nombre_archivo}.png\")\n",
    "    plt.savefig(ruta_completa, format='png', bbox_inches='tight')\n",
    "    plt.close()"
   ]
  },
  {
   "cell_type": "code",
   "execution_count": 34,
   "id": "82d58f20",
   "metadata": {},
   "outputs": [
    {
     "name": "stderr",
     "output_type": "stream",
     "text": [
      "C:\\Users\\User\\AppData\\Local\\Temp\\ipykernel_20484\\4092244653.py:12: FutureWarning:\n",
      "\n",
      "\n",
      "\n",
      "Passing `palette` without assigning `hue` is deprecated and will be removed in v0.14.0. Assign the `x` variable to `hue` and set `legend=False` for the same effect.\n",
      "\n",
      "\n"
     ]
    }
   ],
   "source": [
    "preguntas_likert(df_7_1, \"grafico_7_1\")"
   ]
  },
  {
   "cell_type": "code",
   "execution_count": 35,
   "id": "f1a1c6d2",
   "metadata": {},
   "outputs": [],
   "source": [
    "def preguntas_likert_porcentaje(df, nombre_archivo, opciones):\n",
    "    \"\"\"\n",
    "    df: DataFrame que contiene la columna 'Valor' con respuestas del 1 al 5\n",
    "    nombre_archivo: nombre del archivo de salida (sin extensión)\n",
    "    opciones: diccionario que mapea cada número a su descripción, por ejemplo {1: \"Muy en desacuerdo\", 2: \"En desacuerdo\", ...}\n",
    "    \"\"\"\n",
    "    # Contar la cantidad de respuestas por valor (1 al 5)\n",
    "    conteo = df['Valor'].value_counts().sort_index()\n",
    "    conteo = conteo.reindex(range(1, 6), fill_value=0)\n",
    "\n",
    "    total_respuestas = conteo.sum()\n",
    "    porcentaje = (conteo / total_respuestas) * 100\n",
    "\n",
    "    # Crear un nuevo DataFrame para graficar\n",
    "    datos = pd.DataFrame({\n",
    "        'Valor': range(1, 6),\n",
    "        'Porcentaje': porcentaje.values\n",
    "    })\n",
    "\n",
    "    # Asignar colores personalizados según las opciones\n",
    "    colores = [sns.color_palette(\"Blues\", n_colors=5)[i] for i in range(5)]  # Colores graduales de azul\n",
    "\n",
    "    # Crear gráfico de barras con seaborn, usando los colores personalizados\n",
    "    plt.figure(figsize=(8, 6))\n",
    "    ax = sns.barplot(data=datos, x='Valor', y='Porcentaje', palette=colores, order=[1, 2, 3, 4, 5])\n",
    "    plt.xlabel('')\n",
    "    plt.ylabel('Porcentaje (%)')\n",
    "    plt.title('')\n",
    "    plt.ylim(0, max(porcentaje) + 10)  \n",
    "\n",
    "    # Agregar los porcentajes encima de las barras\n",
    "    for p in ax.patches:\n",
    "        height = p.get_height()\n",
    "        ax.text(p.get_x() + p.get_width() / 2, height + 1, f'{height:.1f}%', \n",
    "                ha=\"center\", va=\"bottom\", fontsize=8)\n",
    "\n",
    "    # Crear la leyenda personalizada\n",
    "    handles = [mlines.Line2D([], [], color=colores[i], marker='s', linestyle='', markersize=10, \n",
    "                             label=f\"{key}: {value}\") for i, (key, value) in enumerate(opciones.items())]\n",
    "    ax.legend(handles=handles, title=\"Opciones\", bbox_to_anchor=(0.5, -0.2), loc='upper center', ncol = 3)\n",
    "\n",
    "    # Guardar el gráfico\n",
    "    plt.tight_layout()\n",
    "    ruta_salida = \"plots3/\"\n",
    "    os.makedirs(ruta_salida, exist_ok=True)\n",
    "    ruta_completa = os.path.join(ruta_salida, f\"{nombre_archivo}.png\")\n",
    "    plt.savefig(ruta_completa, format='png', bbox_inches='tight')\n",
    "    plt.close()\n"
   ]
  },
  {
   "cell_type": "code",
   "execution_count": 36,
   "id": "266c7d19",
   "metadata": {},
   "outputs": [],
   "source": [
    "opciones_7_1 = {\n",
    "    \"1\": \"Muy en desacuerdo\",\n",
    "    \"2\": \"En desacuerdo\",\n",
    "    \"3\": \"Neutral\",\n",
    "    \"4\": \"De acuerdo\",\n",
    "    \"5\": \"Muy de acuerdo\",\n",
    "}"
   ]
  },
  {
   "cell_type": "code",
   "execution_count": 37,
   "id": "ad344d63",
   "metadata": {},
   "outputs": [
    {
     "name": "stderr",
     "output_type": "stream",
     "text": [
      "C:\\Users\\User\\AppData\\Local\\Temp\\ipykernel_20484\\1721997734.py:25: FutureWarning:\n",
      "\n",
      "\n",
      "\n",
      "Passing `palette` without assigning `hue` is deprecated and will be removed in v0.14.0. Assign the `x` variable to `hue` and set `legend=False` for the same effect.\n",
      "\n",
      "\n"
     ]
    }
   ],
   "source": [
    "preguntas_likert_porcentaje(df_7_1, opciones=opciones_7_1, nombre_archivo=\"grafico_7_1_porcentaje\")"
   ]
  },
  {
   "cell_type": "markdown",
   "id": "268b8f24",
   "metadata": {},
   "source": [
    "#### Grafico 7.2"
   ]
  },
  {
   "cell_type": "code",
   "execution_count": 38,
   "id": "fcb2da4c",
   "metadata": {},
   "outputs": [
    {
     "name": "stderr",
     "output_type": "stream",
     "text": [
      "C:\\Users\\User\\AppData\\Local\\Temp\\ipykernel_20484\\2274238124.py:3: SettingWithCopyWarning:\n",
      "\n",
      "\n",
      "A value is trying to be set on a copy of a slice from a DataFrame.\n",
      "Try using .loc[row_indexer,col_indexer] = value instead\n",
      "\n",
      "See the caveats in the documentation: https://pandas.pydata.org/pandas-docs/stable/user_guide/indexing.html#returning-a-view-versus-a-copy\n",
      "\n"
     ]
    }
   ],
   "source": [
    "# filtrar la pregunta 7.2\n",
    "df_7_2 = df_2025[df_2025['Pregunta'] == '¿Cuáles de los siguientes obstáculos ha observado en la implementación de la gestión del conocimiento? (Seleccione todas las que apliquen)']\n",
    "df_7_2['Valor'] =df_7_2['Valor'].astype('str')"
   ]
  },
  {
   "cell_type": "code",
   "execution_count": 39,
   "id": "f2e5ce3c",
   "metadata": {},
   "outputs": [],
   "source": [
    "opciones_7_2 = {\n",
    "    \"1\": \"Falta de presupuesto\",\n",
    "    \"2\": \"Resistencia al cambio\",\n",
    "    \"3\": \"Falta de formación\",\n",
    "    \"4\": \"Ineficientes herramientas digitales\",\n",
    "    \"5\": \"Falta de motivación\",\n",
    "}\n"
   ]
  },
  {
   "cell_type": "code",
   "execution_count": 40,
   "id": "598e9aec",
   "metadata": {},
   "outputs": [],
   "source": [
    "# Función generadora de gráficos de barra para preguntas de opción múltiple\n",
    "\n",
    "def preguntas_multiple(df, opciones, nombre_archivo):\n",
    "\n",
    "    # Paso 1: Separar los valores por coma\n",
    "    valores = df[\"Valor\"].str.split(\",\")\n",
    "\n",
    "    # Paso 2: Unir todos los valores en una lista\n",
    "    valores_flat = [v for sublist in valores for v in sublist]\n",
    "\n",
    "    # Paso 3: Filtrar eliminando \"Otros\"\n",
    "    valores_filtrados = [v for v in valores_flat if v in opciones]\n",
    "\n",
    "    # Paso 4: Contar frecuencia por número\n",
    "    serie = pd.Series(valores_filtrados)\n",
    "    frecuencia = serie.value_counts().sort_index()  # index = números como strings\n",
    "\n",
    "    # Paso 5: Graficar con números en eje x y leyenda con nombres\n",
    "    fig, ax = plt.subplots()\n",
    "\n",
    "    # Usar una paleta de colores azules que varíe de celeste a azul oscuro\n",
    "    colors = sns.color_palette(\"Blues\", len(frecuencia))\n",
    "\n",
    "    bars = ax.bar(frecuencia.index, frecuencia.values, color = colors)\n",
    "\n",
    "    # Crear leyenda\n",
    "    etiquetas = [f\"{clave}: {opciones[clave]}\" for clave in frecuencia.index]\n",
    "    ax.legend(bars, etiquetas, title=\"Opciones\", bbox_to_anchor=(0.5, -0.3), loc=\"center\", ncol=2)\n",
    "\n",
    "\n",
    "    # Etiquetas del gráfico\n",
    "    ax.set_title(\"\")\n",
    "    ax.set_xlabel(\"\")\n",
    "    ax.set_ylabel(\"Frecuencia\")\n",
    "\n",
    "    # Ajustar el eje Y para que los números sean enteros de dos en dos\n",
    "    ax.set_yticks(range(0, max(frecuencia.values) + 2, 5)) \n",
    "\n",
    "    # Agregar el valor encima de las barras\n",
    "    for bar in bars:\n",
    "        height = bar.get_height()\n",
    "        ax.text(bar.get_x() + bar.get_width() / 2, height + 0.1, str(int(height)), \n",
    "                ha=\"center\", va=\"bottom\", fontsize=8)\n",
    "        \n",
    "    plt.tight_layout()\n",
    "\n",
    "    ruta_salida = \"plots3/\"\n",
    "    ruta_completa = os.path.join(ruta_salida, f\"{nombre_archivo}.png\")\n",
    "    plt.savefig(ruta_completa, format='png', bbox_inches='tight')\n",
    "    plt.close()\n"
   ]
  },
  {
   "cell_type": "code",
   "execution_count": 41,
   "id": "1277e2be",
   "metadata": {},
   "outputs": [],
   "source": [
    "preguntas_multiple(df_7_2, opciones=opciones_7_2, nombre_archivo=\"grafico_7_2\")"
   ]
  },
  {
   "cell_type": "code",
   "execution_count": 42,
   "id": "3e9b451c",
   "metadata": {},
   "outputs": [],
   "source": [
    "def preguntas_multiple_porcentaje(df, opciones, nombre_archivo):\n",
    "    # Paso 1: Separar los valores por coma\n",
    "    valores = df[\"Valor\"].str.split(\",\")\n",
    "    \n",
    "    # Paso 2: Unir todos los valores en una lista\n",
    "    valores_flat = [v for sublist in valores for v in sublist]\n",
    "    \n",
    "    # Paso 3: Filtrar eliminando \"Otros\"\n",
    "    valores_filtrados = [v for v in valores_flat if v in opciones]\n",
    "    \n",
    "    # Paso 4: Contar frecuencia por número\n",
    "    serie = pd.Series(valores_filtrados)\n",
    "    frecuencia = serie.value_counts().sort_index()  # index = números como strings\n",
    "    \n",
    "    # Paso 5: Calcular el total de respuestas (número de filas no NAs)\n",
    "    total_respuestas = df[\"Valor\"].notna().sum()  # Contar filas no NA\n",
    "    \n",
    "    # Paso 6: Calcular los porcentajes\n",
    "    porcentaje = (frecuencia / total_respuestas) * 100\n",
    "    \n",
    "    # Paso 7: Graficar con porcentajes en lugar de frecuencias\n",
    "    fig, ax = plt.subplots()\n",
    "    \n",
    "    # Usar una paleta de colores azules que varíe de celeste a azul oscuro\n",
    "    colors = sns.color_palette(\"Blues\", len(porcentaje))\n",
    "    \n",
    "    bars = ax.bar(porcentaje.index, porcentaje.values, color=colors)\n",
    "    \n",
    "    # Crear leyenda\n",
    "    etiquetas = [f\"{clave}: {opciones[clave]}\" for clave in porcentaje.index]\n",
    "    ax.legend(bars, etiquetas, title=\"Opciones\", bbox_to_anchor=(0.5, -0.3), loc=\"center\", ncol=2)\n",
    "    \n",
    "    # Etiquetas del gráfico\n",
    "    ax.set_title(\"\")\n",
    "    ax.set_xlabel(\"\")\n",
    "    ax.set_ylabel(\"Porcentaje\")\n",
    "    \n",
    "    # Ajustar el eje Y para que los números sean enteros de cinco en cinco\n",
    "    ax.set_yticks(range(0, 101, 20)) \n",
    "    \n",
    "    # Agregar el valor encima de las barras\n",
    "    for bar in bars:\n",
    "        height = bar.get_height()\n",
    "        ax.text(bar.get_x() + bar.get_width() / 2, height + 0.1, f\"{height:.1f}%\", \n",
    "                ha=\"center\", va=\"bottom\", fontsize=8)\n",
    "    \n",
    "    plt.tight_layout()\n",
    "\n",
    "    ruta_salida = \"plots3/\"\n",
    "    ruta_completa = os.path.join(ruta_salida, f\"{nombre_archivo}.png\")\n",
    "    plt.savefig(ruta_completa, format='png', bbox_inches='tight')\n",
    "    plt.close()\n"
   ]
  },
  {
   "cell_type": "code",
   "execution_count": 43,
   "id": "e9d3de66",
   "metadata": {},
   "outputs": [],
   "source": [
    "preguntas_multiple_porcentaje(df_7_2, opciones=opciones_7_2, nombre_archivo=\"grafico_7_2_porcentaje\")"
   ]
  },
  {
   "cell_type": "markdown",
   "id": "03efd924",
   "metadata": {},
   "source": [
    "#### Gráfico 7.3"
   ]
  },
  {
   "cell_type": "code",
   "execution_count": 44,
   "id": "2918ea4a",
   "metadata": {},
   "outputs": [
    {
     "name": "stderr",
     "output_type": "stream",
     "text": [
      "C:\\Users\\User\\AppData\\Local\\Temp\\ipykernel_20484\\1773575870.py:3: SettingWithCopyWarning:\n",
      "\n",
      "\n",
      "A value is trying to be set on a copy of a slice from a DataFrame.\n",
      "Try using .loc[row_indexer,col_indexer] = value instead\n",
      "\n",
      "See the caveats in the documentation: https://pandas.pydata.org/pandas-docs/stable/user_guide/indexing.html#returning-a-view-versus-a-copy\n",
      "\n"
     ]
    }
   ],
   "source": [
    "df_7_3 = df_2025[(df_2025['Pregunta'] == '¿Cuáles consideras son los mayores obstáculos para compartir conocimiento? ') &\n",
    "                 (df_2025['Categoria'] == \"Directivo\")]\n",
    "df_7_3['Valor'] =df_7_3['Valor'].astype('str')"
   ]
  },
  {
   "cell_type": "code",
   "execution_count": 45,
   "id": "c7f42cfa",
   "metadata": {},
   "outputs": [],
   "source": [
    "opciones_7_3 = {\n",
    "    \"1\":\"Falta de confianza entre los miembros\",\n",
    "    \"2\":\"El tiempo escaso\",\n",
    "    \"3\":\"Escasa practicidad de las plataformas digitales\",\n",
    "    \"4\":\"Los bajos incentivos\",\n",
    "    \"5\":\"La actitud de las personas\"\n",
    "}"
   ]
  },
  {
   "cell_type": "code",
   "execution_count": 46,
   "id": "8b146633",
   "metadata": {},
   "outputs": [],
   "source": [
    "preguntas_multiple(df_7_3, opciones=opciones_7_3, nombre_archivo=\"grafico_7_3\")"
   ]
  },
  {
   "cell_type": "code",
   "execution_count": 47,
   "id": "ed338617",
   "metadata": {},
   "outputs": [],
   "source": [
    "preguntas_multiple_porcentaje(df_7_3, opciones=opciones_7_3, nombre_archivo=\"grafico_7_3_porcentaje\")"
   ]
  },
  {
   "cell_type": "markdown",
   "id": "4b19ae43",
   "metadata": {},
   "source": [
    "#### Gráfico 7.4"
   ]
  },
  {
   "cell_type": "code",
   "execution_count": 48,
   "id": "454acf09",
   "metadata": {},
   "outputs": [
    {
     "name": "stderr",
     "output_type": "stream",
     "text": [
      "C:\\Users\\User\\AppData\\Local\\Temp\\ipykernel_20484\\1118491517.py:3: SettingWithCopyWarning:\n",
      "\n",
      "\n",
      "A value is trying to be set on a copy of a slice from a DataFrame.\n",
      "Try using .loc[row_indexer,col_indexer] = value instead\n",
      "\n",
      "See the caveats in the documentation: https://pandas.pydata.org/pandas-docs/stable/user_guide/indexing.html#returning-a-view-versus-a-copy\n",
      "\n"
     ]
    }
   ],
   "source": [
    "df_7_4 = df_2025[(df_2025['Pregunta'] == '¿Cuáles de las siguientes áreas cree que necesitan más atención para la estrategia de la gestión del conocimiento? (Seleccione todas las que apliquen)') &\n",
    "                 (df_2025['Categoria'] == \"Directivo\")]\n",
    "df_7_4['Valor'] =df_7_4['Valor'].astype('str')"
   ]
  },
  {
   "cell_type": "code",
   "execution_count": 49,
   "id": "f7e269bd",
   "metadata": {},
   "outputs": [],
   "source": [
    "opciones_7_4 = {\n",
    "    \"1\":\"Formación y capacitación\",\n",
    "    \"2\":\"Cultura organizacional\",\n",
    "    \"3\":\"Liderazgo\",\n",
    "    \"4\":\"Procesos\",\n",
    "    \"5\":\"Motivación\"\n",
    "}"
   ]
  },
  {
   "cell_type": "code",
   "execution_count": 50,
   "id": "de7c0392",
   "metadata": {},
   "outputs": [],
   "source": [
    "preguntas_multiple(df_7_4, opciones=opciones_7_4, nombre_archivo=\"grafico_7_4\")"
   ]
  },
  {
   "cell_type": "code",
   "execution_count": 51,
   "id": "ddadb9cd",
   "metadata": {},
   "outputs": [],
   "source": [
    "preguntas_multiple_porcentaje(df_7_4, opciones_7_4, nombre_archivo=\"grafico_7_4_porcentaje\")"
   ]
  },
  {
   "cell_type": "markdown",
   "id": "7e662295",
   "metadata": {},
   "source": [
    "### Miembros"
   ]
  },
  {
   "cell_type": "markdown",
   "id": "a3d8beee",
   "metadata": {},
   "source": [
    "#### Gráfico 8.1"
   ]
  },
  {
   "cell_type": "code",
   "execution_count": 52,
   "id": "0a3fa9da",
   "metadata": {},
   "outputs": [
    {
     "name": "stderr",
     "output_type": "stream",
     "text": [
      "C:\\Users\\User\\AppData\\Local\\Temp\\ipykernel_20484\\3173202493.py:3: SettingWithCopyWarning:\n",
      "\n",
      "\n",
      "A value is trying to be set on a copy of a slice from a DataFrame.\n",
      "Try using .loc[row_indexer,col_indexer] = value instead\n",
      "\n",
      "See the caveats in the documentation: https://pandas.pydata.org/pandas-docs/stable/user_guide/indexing.html#returning-a-view-versus-a-copy\n",
      "\n"
     ]
    }
   ],
   "source": [
    "df_8_1= df_2025[(df_2025['Pregunta'] == '¿Cuán de acuerdo está con esta afirmación: \"Me siento motivado a participar de la estrategia de gestión del conocimiento?') &\n",
    "                 (df_2025['Categoria'] == \"Miembro\")]\n",
    "df_8_1['Valor'] = df_8_1['Valor'].astype(int)"
   ]
  },
  {
   "cell_type": "code",
   "execution_count": 53,
   "id": "90e28ef1",
   "metadata": {},
   "outputs": [
    {
     "name": "stderr",
     "output_type": "stream",
     "text": [
      "C:\\Users\\User\\AppData\\Local\\Temp\\ipykernel_20484\\1721997734.py:25: FutureWarning:\n",
      "\n",
      "\n",
      "\n",
      "Passing `palette` without assigning `hue` is deprecated and will be removed in v0.14.0. Assign the `x` variable to `hue` and set `legend=False` for the same effect.\n",
      "\n",
      "\n"
     ]
    }
   ],
   "source": [
    "preguntas_likert_porcentaje(df_8_1, opciones=opciones_7_1, nombre_archivo=\"grafico_8_1_porcentaje\")"
   ]
  },
  {
   "cell_type": "markdown",
   "id": "effe49ed",
   "metadata": {},
   "source": [
    "#### Gráfico 8.2"
   ]
  },
  {
   "cell_type": "code",
   "execution_count": 54,
   "id": "4952a909",
   "metadata": {},
   "outputs": [
    {
     "name": "stderr",
     "output_type": "stream",
     "text": [
      "C:\\Users\\User\\AppData\\Local\\Temp\\ipykernel_20484\\3320408780.py:3: SettingWithCopyWarning:\n",
      "\n",
      "\n",
      "A value is trying to be set on a copy of a slice from a DataFrame.\n",
      "Try using .loc[row_indexer,col_indexer] = value instead\n",
      "\n",
      "See the caveats in the documentation: https://pandas.pydata.org/pandas-docs/stable/user_guide/indexing.html#returning-a-view-versus-a-copy\n",
      "\n"
     ]
    }
   ],
   "source": [
    "df_8_2= df_2025[(df_2025['Pregunta'] == '¿Cuáles consideras son los mayores obstáculos para compartir conocimiento?') &\n",
    "                 (df_2025['Categoria'] == \"Miembro\")]\n",
    "df_8_2['Valor'] = df_8_2['Valor'].astype('str')"
   ]
  },
  {
   "cell_type": "code",
   "execution_count": 55,
   "id": "0337fd06",
   "metadata": {},
   "outputs": [],
   "source": [
    "opciones_8_2 = {\n",
    "    \"1\":\"Falta de confianza entre miembros\",\n",
    "    \"2\":\"Tiempo escaso\",\n",
    "    \"3\":\"Escasa practicidad de las plataformas digitales\",\n",
    "    \"4\":\"Bajos incentivos\"\n",
    "}"
   ]
  },
  {
   "cell_type": "code",
   "execution_count": 56,
   "id": "e0abb338",
   "metadata": {},
   "outputs": [],
   "source": [
    "preguntas_multiple(df_8_2, opciones=opciones_8_2, nombre_archivo=\"grafico_8_2\")"
   ]
  },
  {
   "cell_type": "code",
   "execution_count": 57,
   "id": "428c0d6d",
   "metadata": {},
   "outputs": [],
   "source": [
    "preguntas_multiple_porcentaje(df_8_2, opciones=opciones_8_2, nombre_archivo=\"graficos_8_2_porcentaje\")"
   ]
  },
  {
   "cell_type": "markdown",
   "id": "84b3a858",
   "metadata": {},
   "source": [
    "#### Grafico 8.3"
   ]
  },
  {
   "cell_type": "code",
   "execution_count": 120,
   "id": "83dc1837",
   "metadata": {},
   "outputs": [],
   "source": [
    "df_8_3 = df_2025[(df_2025['Pregunta'] == '¿Cuán satisfecho está con el trabajo que viene realizando el líder y los coordinadores de su comunidad?') &\n",
    "                 (df_2025['Categoria'] == \"Miembro\") & (df_2025['Nivel estructural'] != \"Líder de Comunidad\")]\n",
    "df_8_3 = df_8_3.dropna(subset=['Valor'])\n",
    "df_8_3['Valor'] = df_8_3['Valor'].astype(float)"
   ]
  },
  {
   "cell_type": "code",
   "execution_count": 59,
   "id": "adabc81a",
   "metadata": {},
   "outputs": [
    {
     "name": "stderr",
     "output_type": "stream",
     "text": [
      "C:\\Users\\User\\AppData\\Local\\Temp\\ipykernel_20484\\4092244653.py:12: FutureWarning:\n",
      "\n",
      "\n",
      "\n",
      "Passing `palette` without assigning `hue` is deprecated and will be removed in v0.14.0. Assign the `x` variable to `hue` and set `legend=False` for the same effect.\n",
      "\n",
      "\n"
     ]
    }
   ],
   "source": [
    "preguntas_likert(df_8_3, nombre_archivo=\"grafico_8_3\")"
   ]
  },
  {
   "cell_type": "code",
   "execution_count": 121,
   "id": "bc31a9dc",
   "metadata": {},
   "outputs": [],
   "source": [
    "opciones_8_3 = {\n",
    "    \"1\":\"Muy insatisfecho\",\n",
    "    \"2\":\"Insatifecho\",\n",
    "    \"3\":\"Neutral\",\n",
    "    \"4\":\"Satisfecho\",\n",
    "    \"5\":\"Muy satisfecho\"\n",
    "}"
   ]
  },
  {
   "cell_type": "code",
   "execution_count": 123,
   "id": "01069731",
   "metadata": {},
   "outputs": [
    {
     "name": "stderr",
     "output_type": "stream",
     "text": [
      "C:\\Users\\User\\AppData\\Local\\Temp\\ipykernel_20484\\1721997734.py:25: FutureWarning:\n",
      "\n",
      "\n",
      "\n",
      "Passing `palette` without assigning `hue` is deprecated and will be removed in v0.14.0. Assign the `x` variable to `hue` and set `legend=False` for the same effect.\n",
      "\n",
      "\n"
     ]
    }
   ],
   "source": [
    "preguntas_likert_porcentaje(df_8_3, nombre_archivo=\"grafico_8_3_likert\", opciones=opciones_8_3)"
   ]
  },
  {
   "cell_type": "markdown",
   "id": "fd5afb77",
   "metadata": {},
   "source": [
    "preguntas_likert_porcentaje(df_8_3, opciones=opciones_8_3, nombre_archivo=\"grafico_8_3_porcentaje\")"
   ]
  },
  {
   "cell_type": "markdown",
   "id": "fe301183",
   "metadata": {},
   "source": [
    "#### Gráfico 8.4"
   ]
  },
  {
   "cell_type": "code",
   "execution_count": 124,
   "id": "e83ade4b",
   "metadata": {},
   "outputs": [
    {
     "name": "stderr",
     "output_type": "stream",
     "text": [
      "C:\\Users\\User\\AppData\\Local\\Temp\\ipykernel_20484\\941679590.py:3: SettingWithCopyWarning:\n",
      "\n",
      "\n",
      "A value is trying to be set on a copy of a slice from a DataFrame.\n",
      "Try using .loc[row_indexer,col_indexer] = value instead\n",
      "\n",
      "See the caveats in the documentation: https://pandas.pydata.org/pandas-docs/stable/user_guide/indexing.html#returning-a-view-versus-a-copy\n",
      "\n"
     ]
    }
   ],
   "source": [
    "df_8_4 = df_2025[(df_2025['Pregunta'] == '¿Qué tanto te ha beneficiado pertenecer a una comunidad de conocimiento?') &\n",
    "                 (df_2025['Categoria'] == \"Miembro\")]\n",
    "df_8_4['Valor'] = df_8_4['Valor'].astype(float)"
   ]
  },
  {
   "cell_type": "code",
   "execution_count": 125,
   "id": "98574d9a",
   "metadata": {},
   "outputs": [
    {
     "name": "stderr",
     "output_type": "stream",
     "text": [
      "C:\\Users\\User\\AppData\\Local\\Temp\\ipykernel_20484\\4092244653.py:12: FutureWarning:\n",
      "\n",
      "\n",
      "\n",
      "Passing `palette` without assigning `hue` is deprecated and will be removed in v0.14.0. Assign the `x` variable to `hue` and set `legend=False` for the same effect.\n",
      "\n",
      "\n"
     ]
    }
   ],
   "source": [
    "preguntas_likert(df_8_4, \"grafico_8_4\")"
   ]
  },
  {
   "cell_type": "code",
   "execution_count": 128,
   "id": "558ead61",
   "metadata": {},
   "outputs": [],
   "source": [
    "opciones_8_4 = {\n",
    "    \"1\":\"Muy bajo\",\n",
    "    \"2\":\"Bajo\",\n",
    "    \"3\":\"Neutral\",\n",
    "    \"4\":\"Alto\",\n",
    "    \"5\":\"Muy alto\"\n",
    "}"
   ]
  },
  {
   "cell_type": "code",
   "execution_count": 129,
   "id": "217af127",
   "metadata": {},
   "outputs": [
    {
     "name": "stderr",
     "output_type": "stream",
     "text": [
      "C:\\Users\\User\\AppData\\Local\\Temp\\ipykernel_20484\\1721997734.py:25: FutureWarning:\n",
      "\n",
      "\n",
      "\n",
      "Passing `palette` without assigning `hue` is deprecated and will be removed in v0.14.0. Assign the `x` variable to `hue` and set `legend=False` for the same effect.\n",
      "\n",
      "\n"
     ]
    }
   ],
   "source": [
    "preguntas_likert_porcentaje(df_8_4, \"grafico_8_4_porcentaje\", opciones = opciones_8_4)"
   ]
  },
  {
   "cell_type": "markdown",
   "id": "33956aa9",
   "metadata": {},
   "source": [
    "# Análisis de efectividad de herramientas"
   ]
  },
  {
   "cell_type": "markdown",
   "id": "5af4c40c",
   "metadata": {},
   "source": [
    "## Gráfico 9.1"
   ]
  },
  {
   "cell_type": "code",
   "execution_count": 63,
   "id": "311b860b",
   "metadata": {},
   "outputs": [],
   "source": [
    "# Función para preguntas likert en un grid\n",
    "def preguntas_likert_grid(df, ax, titulo):\n",
    "    # Contar la cantidad de respuestas por valor (1 al 5)\n",
    "    conteo = df['Valor'].value_counts().sort_index()\n",
    "    conteo = conteo.reindex(range(1, 6), fill_value=0)\n",
    "\n",
    "    # Crear gráfico de barras directamente sobre el eje recibido\n",
    "    sns.countplot(data=df, x='Valor', palette=\"Blues\", order=[1, 2, 3, 4, 5], ax=ax)\n",
    "\n",
    "    ax.set_xlabel('')\n",
    "    ax.set_ylabel('Frecuencia')\n",
    "    ax.set_title(titulo, fontsize = 8)\n",
    "\n",
    "    # Agregar los valores encima de las barras\n",
    "    for p in ax.patches:\n",
    "        height = p.get_height()\n",
    "        ax.text(p.get_x() + p.get_width() / 2, height + 0.1, str(int(height)),\n",
    "                ha=\"center\", va=\"bottom\", fontsize=7)"
   ]
  },
  {
   "cell_type": "code",
   "execution_count": 64,
   "id": "1d0f0d35",
   "metadata": {},
   "outputs": [
    {
     "name": "stderr",
     "output_type": "stream",
     "text": [
      "C:\\Users\\User\\AppData\\Local\\Temp\\ipykernel_20484\\631689699.py:3: SettingWithCopyWarning:\n",
      "\n",
      "\n",
      "A value is trying to be set on a copy of a slice from a DataFrame.\n",
      "Try using .loc[row_indexer,col_indexer] = value instead\n",
      "\n",
      "See the caveats in the documentation: https://pandas.pydata.org/pandas-docs/stable/user_guide/indexing.html#returning-a-view-versus-a-copy\n",
      "\n",
      "C:\\Users\\User\\AppData\\Local\\Temp\\ipykernel_20484\\631689699.py:6: SettingWithCopyWarning:\n",
      "\n",
      "\n",
      "A value is trying to be set on a copy of a slice from a DataFrame.\n",
      "Try using .loc[row_indexer,col_indexer] = value instead\n",
      "\n",
      "See the caveats in the documentation: https://pandas.pydata.org/pandas-docs/stable/user_guide/indexing.html#returning-a-view-versus-a-copy\n",
      "\n",
      "C:\\Users\\User\\AppData\\Local\\Temp\\ipykernel_20484\\631689699.py:9: SettingWithCopyWarning:\n",
      "\n",
      "\n",
      "A value is trying to be set on a copy of a slice from a DataFrame.\n",
      "Try using .loc[row_indexer,col_indexer] = value instead\n",
      "\n",
      "See the caveats in the documentation: https://pandas.pydata.org/pandas-docs/stable/user_guide/indexing.html#returning-a-view-versus-a-copy\n",
      "\n"
     ]
    }
   ],
   "source": [
    "# Generar las tablas \n",
    "df_9_1_1 = df_2025[(df_2025['Pregunta'] == '¿Cuán efectivas considera que es la herramienta Viva Engage para la gestión del conocimiento en la organización?')]\n",
    "df_9_1_1['Valor'] = df_9_1_1['Valor'].astype(float)\n",
    "\n",
    "df_9_1_2 = df_2025[(df_2025['Pregunta'] == '¿Cuán efectivas considera que es la herramienta Sharepoint para la gestión del conocimiento en la organización?')]\n",
    "df_9_1_2['Valor'] = df_9_1_2['Valor'].astype(float)\n",
    "\n",
    "df_9_1_3 = df_2025[(df_2025['Pregunta'] == '¿Cuán efectivas considera que es la herramienta Outlook para la gestión del conocimiento en la organización?')]\n",
    "df_9_1_3['Valor'] = df_9_1_3['Valor'].astype(float)"
   ]
  },
  {
   "cell_type": "code",
   "execution_count": 65,
   "id": "c83be0b0",
   "metadata": {},
   "outputs": [
    {
     "name": "stderr",
     "output_type": "stream",
     "text": [
      "C:\\Users\\User\\AppData\\Local\\Temp\\ipykernel_20484\\3754240498.py:8: FutureWarning:\n",
      "\n",
      "\n",
      "\n",
      "Passing `palette` without assigning `hue` is deprecated and will be removed in v0.14.0. Assign the `x` variable to `hue` and set `legend=False` for the same effect.\n",
      "\n",
      "\n",
      "C:\\Users\\User\\AppData\\Local\\Temp\\ipykernel_20484\\3754240498.py:8: FutureWarning:\n",
      "\n",
      "\n",
      "\n",
      "Passing `palette` without assigning `hue` is deprecated and will be removed in v0.14.0. Assign the `x` variable to `hue` and set `legend=False` for the same effect.\n",
      "\n",
      "\n",
      "C:\\Users\\User\\AppData\\Local\\Temp\\ipykernel_20484\\3754240498.py:8: FutureWarning:\n",
      "\n",
      "\n",
      "\n",
      "Passing `palette` without assigning `hue` is deprecated and will be removed in v0.14.0. Assign the `x` variable to `hue` and set `legend=False` for the same effect.\n",
      "\n",
      "\n"
     ]
    },
    {
     "data": {
      "image/png": "[encoded data removed]",
      "text/plain": [
       "<Figure size 600x1000 with 3 Axes>"
      ]
     },
     "metadata": {},
     "output_type": "display_data"
    }
   ],
   "source": [
    "fig, axes = plt.subplots(nrows=3, figsize=(6, 10))\n",
    "\n",
    "preguntas_likert_grid(df_9_1_1, axes[0], \"Viva Engage\")\n",
    "preguntas_likert_grid(df_9_1_2, axes[1], \"Sharepoint\")\n",
    "preguntas_likert_grid(df_9_1_3, axes[2], \"Outlook\")\n",
    "\n",
    "plt.tight_layout()\n",
    "\n",
    "ruta_salida = \"plots3/\"\n",
    "ruta_completa = os.path.join(ruta_salida, f\"{\"gráfico_9_1\"}.png\")\n",
    "plt.savefig(ruta_completa, format='png', bbox_inches='tight')\n",
    "\n",
    "plt.show()"
   ]
  },
  {
   "cell_type": "markdown",
   "id": "19d1c8d3",
   "metadata": {},
   "source": [
    "def obtener_conteo(df):\n",
    "    conteo = df['Valor'].value_counts().sort_index()\n",
    "    return conteo.reindex([str(i) for i in range(1, 6)], fill_value=0)\n",
    "\n",
    "def graficar_likert_suavizado(df1, df2, df3, etiquetas, nombre_archivo):\n",
    "    # Obtener conteos\n",
    "    conteo1 = obtener_conteo(df1)\n",
    "    conteo2 = obtener_conteo(df2)\n",
    "    conteo3 = obtener_conteo(df3)\n",
    "\n",
    "    x = list(range(1, 6))\n",
    "\n",
    "    plt.figure(figsize=(8, 5))\n",
    "\n",
    "    sns.lineplot(x=x, y=conteo1.values, marker='o', label=etiquetas[0], linewidth=2)\n",
    "    sns.lineplot(x=x, y=conteo2.values, marker='o', label=etiquetas[1], linewidth=2)\n",
    "    sns.lineplot(x=x, y=conteo3.values, marker='o', label=etiquetas[2], linewidth=2)\n",
    "\n",
    "    plt.xticks(x)\n",
    "    plt.ylabel('Frecuencia')\n",
    "    plt.xlabel('Valor Likert')\n",
    "    plt.title('Comparación de efectividad', fontsize=10)\n",
    "    plt.legend()\n",
    "    plt.grid(True, linestyle='--', alpha=0.5)\n",
    "    plt.tight_layout()\n",
    "    ruta_salida = \"plots3/\"\n",
    "    ruta_completa = os.path.join(ruta_salida, f\"{nombre_archivo}.png\")\n",
    "    plt.savefig(ruta_completa, format='png', bbox_inches='tight')\n",
    "\n",
    "    plt.show()"
   ]
  },
  {
   "cell_type": "markdown",
   "id": "768b71c4",
   "metadata": {},
   "source": [
    "graficar_likert_suavizado(df_9_1_1, df_9_1_2, df_9_1_3, etiquetas = [\"Viva Engage\", \"Sharepoint\", \"Outlook\"], nombre_archivo=\"grafico_9_1\")"
   ]
  },
  {
   "cell_type": "markdown",
   "id": "16b7aad9",
   "metadata": {},
   "source": [
    "## Gráfico 9.2"
   ]
  },
  {
   "cell_type": "markdown",
   "id": "ca86c30a",
   "metadata": {},
   "source": [
    "def obtener_conteo(df):\n",
    "    conteo = df['Valor'].value_counts().sort_index()\n",
    "    return conteo.reindex([str(i) for i in range(1, 6)], fill_value=0)\n",
    "\n",
    "def graficar_likert_suavizado(*dfs, etiquetas, nombre_archivo):\n",
    "    # Verificar que el número de etiquetas coincida con el número de dataframes\n",
    "    if len(dfs) != len(etiquetas):\n",
    "        raise ValueError(\"El número de dataframes debe coincidir con el número de etiquetas\")\n",
    "\n",
    "    # Obtener los conteos para cada dataframe\n",
    "    conteos = [obtener_conteo(df) for df in dfs]\n",
    "\n",
    "    x = list(range(1, 6))\n",
    "\n",
    "    plt.figure(figsize=(8, 5))\n",
    "\n",
    "    # Graficar cada dataframe\n",
    "    for i, conteo in enumerate(conteos):\n",
    "        sns.lineplot(x=x, y=conteo.values, marker='o', label=etiquetas[i], linewidth=2)\n",
    "\n",
    "    plt.xticks(x)\n",
    "    plt.ylabel('Frecuencia')\n",
    "    plt.xlabel('Valor Likert')\n",
    "    plt.title('Comparación de efectividad', fontsize=10)\n",
    "    plt.legend()\n",
    "    plt.tight_layout()\n",
    "    ruta_salida = \"plots3/\"\n",
    "    ruta_completa = os.path.join(ruta_salida, f\"{nombre_archivo}.png\")\n",
    "    plt.savefig(ruta_completa, format='png', bbox_inches='tight')\n",
    "    plt.show()"
   ]
  },
  {
   "cell_type": "code",
   "execution_count": 66,
   "id": "3b9a7687",
   "metadata": {},
   "outputs": [
    {
     "name": "stderr",
     "output_type": "stream",
     "text": [
      "C:\\Users\\User\\AppData\\Local\\Temp\\ipykernel_20484\\4251170939.py:2: SettingWithCopyWarning:\n",
      "\n",
      "\n",
      "A value is trying to be set on a copy of a slice from a DataFrame.\n",
      "Try using .loc[row_indexer,col_indexer] = value instead\n",
      "\n",
      "See the caveats in the documentation: https://pandas.pydata.org/pandas-docs/stable/user_guide/indexing.html#returning-a-view-versus-a-copy\n",
      "\n",
      "C:\\Users\\User\\AppData\\Local\\Temp\\ipykernel_20484\\4251170939.py:5: SettingWithCopyWarning:\n",
      "\n",
      "\n",
      "A value is trying to be set on a copy of a slice from a DataFrame.\n",
      "Try using .loc[row_indexer,col_indexer] = value instead\n",
      "\n",
      "See the caveats in the documentation: https://pandas.pydata.org/pandas-docs/stable/user_guide/indexing.html#returning-a-view-versus-a-copy\n",
      "\n",
      "C:\\Users\\User\\AppData\\Local\\Temp\\ipykernel_20484\\4251170939.py:8: SettingWithCopyWarning:\n",
      "\n",
      "\n",
      "A value is trying to be set on a copy of a slice from a DataFrame.\n",
      "Try using .loc[row_indexer,col_indexer] = value instead\n",
      "\n",
      "See the caveats in the documentation: https://pandas.pydata.org/pandas-docs/stable/user_guide/indexing.html#returning-a-view-versus-a-copy\n",
      "\n",
      "C:\\Users\\User\\AppData\\Local\\Temp\\ipykernel_20484\\4251170939.py:11: SettingWithCopyWarning:\n",
      "\n",
      "\n",
      "A value is trying to be set on a copy of a slice from a DataFrame.\n",
      "Try using .loc[row_indexer,col_indexer] = value instead\n",
      "\n",
      "See the caveats in the documentation: https://pandas.pydata.org/pandas-docs/stable/user_guide/indexing.html#returning-a-view-versus-a-copy\n",
      "\n",
      "C:\\Users\\User\\AppData\\Local\\Temp\\ipykernel_20484\\4251170939.py:14: SettingWithCopyWarning:\n",
      "\n",
      "\n",
      "A value is trying to be set on a copy of a slice from a DataFrame.\n",
      "Try using .loc[row_indexer,col_indexer] = value instead\n",
      "\n",
      "See the caveats in the documentation: https://pandas.pydata.org/pandas-docs/stable/user_guide/indexing.html#returning-a-view-versus-a-copy\n",
      "\n"
     ]
    }
   ],
   "source": [
    "df_9_2_1 = df_2025[df_2025['Pregunta'] == \"¿Qué tan efectivas consideras las herramientas para la identificación  del conocimiento (Matriz/Directorio)?\"]\n",
    "df_9_2_1['Valor'] = df_9_2_1['Valor'].astype(float)\n",
    "\n",
    "df_9_2_2 = df_2025[df_2025['Pregunta'] == \"¿Qué tan efectivas consideras las herramientas para la captura del conocimiento (Lecciones aprendidas/Oportunidades de Mejora/Innovación)?\"]\n",
    "df_9_2_2['Valor'] = df_9_2_2['Valor'].astype(float)\n",
    "\n",
    "df_9_2_3 = df_2025[df_2025['Pregunta'] == \"¿Qué tan efectivas consideras las herramientas para el almacenamiento del conocimiento (Biblioteca)?\"]\n",
    "df_9_2_3['Valor'] = df_9_2_3['Valor'].astype(float)\n",
    "\n",
    "df_9_2_4 = df_2025[df_2025['Pregunta'] == \"¿Qué tan efectivas consideras las herramientas para la distribución del conocimiento (Agenda)?\"]\n",
    "df_9_2_4['Valor'] = df_9_2_4['Valor'].astype(float)\n",
    "\n",
    "df_9_2_5 = df_2025[df_2025['Pregunta'] == \"¿Qué tan efectivas consideras las herramientas para la aplicación del conocimiento (Foros)?\"]\n",
    "df_9_2_5['Valor'] = df_9_2_5['Valor'].astype(float)"
   ]
  },
  {
   "cell_type": "markdown",
   "id": "05dfbbc6",
   "metadata": {},
   "source": [
    "graficar_likert_suavizado(df_9_2_1, df_9_2_2, df_9_2_3, df_9_2_4, df_9_2_5, etiquetas=[\"Matriz/Directorio\",\n",
    "                                                                                       \"LA, OPPM, Innov\",\n",
    "                                                                                       \"Biblioteca\",\n",
    "                                                                                       \"Agenda\",\n",
    "                                                                                       \"Foros\"], nombre_archivo=\"grafico_9_2\")"
   ]
  },
  {
   "cell_type": "markdown",
   "id": "9e2038a1",
   "metadata": {},
   "source": [
    "# Data 2023"
   ]
  },
  {
   "cell_type": "code",
   "execution_count": 67,
   "id": "302528f6",
   "metadata": {},
   "outputs": [],
   "source": [
    "df_2023 = df_2023[df_2023['Respuesta'] != 0]"
   ]
  },
  {
   "cell_type": "code",
   "execution_count": 68,
   "id": "2c616388",
   "metadata": {},
   "outputs": [],
   "source": [
    "df_2023 = df_2023.rename(columns={'Respuesta': 'Valor'})\n"
   ]
  },
  {
   "cell_type": "code",
   "execution_count": 69,
   "id": "e6b275e8",
   "metadata": {},
   "outputs": [],
   "source": [
    "df_promedio_dim_2023 = promedio_dimension(df_2023)"
   ]
  },
  {
   "cell_type": "code",
   "execution_count": 70,
   "id": "6ab876f0",
   "metadata": {},
   "outputs": [],
   "source": [
    "df_promedio_dim['year'] = \"2025\"\n",
    "df_promedio_dim_2023['year'] = \"2023\""
   ]
  },
  {
   "cell_type": "code",
   "execution_count": 71,
   "id": "476aabd1",
   "metadata": {},
   "outputs": [],
   "source": [
    "df_promedio_dim_total = pd.concat([df_promedio_dim, df_promedio_dim_2023], ignore_index=True)\n"
   ]
  },
  {
   "cell_type": "code",
   "execution_count": 72,
   "id": "ea88ac21",
   "metadata": {},
   "outputs": [],
   "source": [
    "# Pasar a un decimal\n",
    "df_promedio_dim_total['Valor'] = df_promedio_dim_total['Valor'].astype(float).round(1)"
   ]
  },
  {
   "cell_type": "code",
   "execution_count": 73,
   "id": "e98fb41e",
   "metadata": {},
   "outputs": [],
   "source": [
    "generar_grafico_radar(df_promedio_dim_total, theta=\"Dimension\", nombre_archivo=\"radar_promedio_total_comparado\", color = 'year')"
   ]
  },
  {
   "cell_type": "code",
   "execution_count": 74,
   "id": "867f600e",
   "metadata": {},
   "outputs": [],
   "source": [
    "df_2023_entrevistas = pd.read_excel(\"raw/datos_2023_entrevistas.xlsx\")"
   ]
  },
  {
   "cell_type": "code",
   "execution_count": 75,
   "id": "f1a9da6b",
   "metadata": {},
   "outputs": [],
   "source": [
    "df_2023_entrevistas['year'] = \"2023\""
   ]
  },
  {
   "cell_type": "code",
   "execution_count": 76,
   "id": "1be9f383",
   "metadata": {},
   "outputs": [],
   "source": [
    "df_promedio_dim_total_2 = pd.concat([df_promedio_dim, df_2023_entrevistas], ignore_index=True)"
   ]
  },
  {
   "cell_type": "code",
   "execution_count": 77,
   "id": "8b0f7f47",
   "metadata": {},
   "outputs": [],
   "source": [
    "generar_grafico_radar(df_promedio_dim_total_2, nombre_archivo=\"radar_promedio_dimension_entrevistas\", color = 'year', theta = 'Dimension')"
   ]
  },
  {
   "cell_type": "markdown",
   "id": "c7c6e0a5",
   "metadata": {},
   "source": [
    "## Gráficos por categoría 25 vs 23"
   ]
  },
  {
   "cell_type": "code",
   "execution_count": 78,
   "id": "b02dd978",
   "metadata": {},
   "outputs": [],
   "source": [
    "# unir la columna categoria\n",
    "df_temp = pd.read_excel('raw/datos_2025_categoria.xlsx')"
   ]
  },
  {
   "cell_type": "code",
   "execution_count": 79,
   "id": "a4c0939a",
   "metadata": {},
   "outputs": [
    {
     "data": {
      "application/vnd.microsoft.datawrangler.viewer.v0+json": {
       "columns": [
        {
         "name": "index",
         "rawType": "int64",
         "type": "integer"
        },
        {
         "name": "#",
         "rawType": "int64",
         "type": "integer"
        },
        {
         "name": "Nombre Colaborador",
         "rawType": "object",
         "type": "string"
        },
        {
         "name": "Unnamed: 2",
         "rawType": "object",
         "type": "unknown"
        },
        {
         "name": "E-mail Corporativo",
         "rawType": "object",
         "type": "string"
        },
        {
         "name": "Categoria 2025",
         "rawType": "object",
         "type": "string"
        },
        {
         "name": "Categoria 2023",
         "rawType": "object",
         "type": "string"
        },
        {
         "name": "Estado",
         "rawType": "object",
         "type": "unknown"
        }
       ],
       "conversionMethod": "pd.DataFrame",
       "ref": "57eccc70-af83-4498-a78c-cfdd49773796",
       "rows": [
        [
         "0",
         "1",
         "ABREGU GONZALES, JOSEP JESUS",
         null,
         "jabregu@arpl.com",
         "Ing Junior",
         "No participó",
         null
        ],
        [
         "1",
         "2",
         "ACUÑA URBINA, DARIO ENRIQUE",
         "ACUÑA URBINA, DARIO ENRIQUE",
         "dacuna@arpl.com",
         "Gestor de Proyecto",
         "Gestor de Proyecto",
         "OK"
        ],
        [
         "2",
         "3",
         "ALATA CHUMPITAZ, GUILLERMO SEGUNDO",
         null,
         "galata@arpl.com",
         "Gestor de Proyecto",
         "Gestor de Proyecto",
         "OK"
        ],
        [
         "3",
         "4",
         "ALCA MENDOZA, EDGARD CECILIO",
         null,
         "ealca@arpl.com",
         "Jefe de Proyecto",
         "Jefe de Proyecto",
         "OK"
        ],
        [
         "4",
         "5",
         "ALVARADO GUILLEN, VIRGILIO CAMILO",
         null,
         "Alvarado@arpl.com",
         "Jefe de Proyecto",
         "Diseñador",
         "CAMBIA"
        ]
       ],
       "shape": {
        "columns": 7,
        "rows": 5
       }
      },
      "text/html": [
       "<div>\n",
       "<style scoped>\n",
       "    .dataframe tbody tr th:only-of-type {\n",
       "        vertical-align: middle;\n",
       "    }\n",
       "\n",
       "    .dataframe tbody tr th {\n",
       "        vertical-align: top;\n",
       "    }\n",
       "\n",
       "    .dataframe thead th {\n",
       "        text-align: right;\n",
       "    }\n",
       "</style>\n",
       "<table border=\"1\" class=\"dataframe\">\n",
       "  <thead>\n",
       "    <tr style=\"text-align: right;\">\n",
       "      <th></th>\n",
       "      <th>#</th>\n",
       "      <th>Nombre Colaborador</th>\n",
       "      <th>Unnamed: 2</th>\n",
       "      <th>E-mail Corporativo</th>\n",
       "      <th>Categoria 2025</th>\n",
       "      <th>Categoria 2023</th>\n",
       "      <th>Estado</th>\n",
       "    </tr>\n",
       "  </thead>\n",
       "  <tbody>\n",
       "    <tr>\n",
       "      <th>0</th>\n",
       "      <td>1</td>\n",
       "      <td>ABREGU GONZALES, JOSEP JESUS</td>\n",
       "      <td>NaN</td>\n",
       "      <td>jabregu@arpl.com</td>\n",
       "      <td>Ing Junior</td>\n",
       "      <td>No participó</td>\n",
       "      <td>NaN</td>\n",
       "    </tr>\n",
       "    <tr>\n",
       "      <th>1</th>\n",
       "      <td>2</td>\n",
       "      <td>ACUÑA URBINA, DARIO ENRIQUE</td>\n",
       "      <td>ACUÑA URBINA, DARIO ENRIQUE</td>\n",
       "      <td>dacuna@arpl.com</td>\n",
       "      <td>Gestor de Proyecto</td>\n",
       "      <td>Gestor de Proyecto</td>\n",
       "      <td>OK</td>\n",
       "    </tr>\n",
       "    <tr>\n",
       "      <th>2</th>\n",
       "      <td>3</td>\n",
       "      <td>ALATA CHUMPITAZ, GUILLERMO SEGUNDO</td>\n",
       "      <td>NaN</td>\n",
       "      <td>galata@arpl.com</td>\n",
       "      <td>Gestor de Proyecto</td>\n",
       "      <td>Gestor de Proyecto</td>\n",
       "      <td>OK</td>\n",
       "    </tr>\n",
       "    <tr>\n",
       "      <th>3</th>\n",
       "      <td>4</td>\n",
       "      <td>ALCA MENDOZA, EDGARD CECILIO</td>\n",
       "      <td>NaN</td>\n",
       "      <td>ealca@arpl.com</td>\n",
       "      <td>Jefe de Proyecto</td>\n",
       "      <td>Jefe de Proyecto</td>\n",
       "      <td>OK</td>\n",
       "    </tr>\n",
       "    <tr>\n",
       "      <th>4</th>\n",
       "      <td>5</td>\n",
       "      <td>ALVARADO GUILLEN, VIRGILIO CAMILO</td>\n",
       "      <td>NaN</td>\n",
       "      <td>Alvarado@arpl.com</td>\n",
       "      <td>Jefe de Proyecto</td>\n",
       "      <td>Diseñador</td>\n",
       "      <td>CAMBIA</td>\n",
       "    </tr>\n",
       "  </tbody>\n",
       "</table>\n",
       "</div>"
      ],
      "text/plain": [
       "   #                  Nombre Colaborador                   Unnamed: 2  \\\n",
       "0  1        ABREGU GONZALES, JOSEP JESUS                          NaN   \n",
       "1  2         ACUÑA URBINA, DARIO ENRIQUE  ACUÑA URBINA, DARIO ENRIQUE   \n",
       "2  3  ALATA CHUMPITAZ, GUILLERMO SEGUNDO                          NaN   \n",
       "3  4        ALCA MENDOZA, EDGARD CECILIO                          NaN   \n",
       "4  5   ALVARADO GUILLEN, VIRGILIO CAMILO                          NaN   \n",
       "\n",
       "  E-mail Corporativo      Categoria 2025      Categoria 2023  Estado  \n",
       "0   jabregu@arpl.com          Ing Junior        No participó     NaN  \n",
       "1    dacuna@arpl.com  Gestor de Proyecto  Gestor de Proyecto      OK  \n",
       "2    galata@arpl.com  Gestor de Proyecto  Gestor de Proyecto      OK  \n",
       "3     ealca@arpl.com    Jefe de Proyecto    Jefe de Proyecto      OK  \n",
       "4  Alvarado@arpl.com    Jefe de Proyecto           Diseñador  CAMBIA  "
      ]
     },
     "execution_count": 79,
     "metadata": {},
     "output_type": "execute_result"
    }
   ],
   "source": [
    "df_temp.head()"
   ]
  },
  {
   "cell_type": "code",
   "execution_count": 80,
   "id": "efe590e6",
   "metadata": {},
   "outputs": [],
   "source": [
    "df_likert = df_likert.merge(\n",
    "    df_temp[['E-mail Corporativo', 'Categoria 2025']],\n",
    "    how='left',\n",
    "    left_on='Email',\n",
    "    right_on='E-mail Corporativo'\n",
    ")\n",
    "\n",
    "df_likert = df_likert.drop(columns=['E-mail Corporativo'])\n"
   ]
  },
  {
   "cell_type": "code",
   "execution_count": 81,
   "id": "7c80a390",
   "metadata": {},
   "outputs": [],
   "source": [
    "# limpiar la columna categoría del 2023\n",
    "df_2023['Area'] = df_2023['Area'].str[3:]"
   ]
  },
  {
   "cell_type": "code",
   "execution_count": 82,
   "id": "aaeb1672",
   "metadata": {},
   "outputs": [],
   "source": [
    "df_2023['Area']= df_2023['Area'].replace('Gestor Proyecto', 'Gestor de Proyecto')\n"
   ]
  },
  {
   "cell_type": "code",
   "execution_count": 83,
   "id": "09a5dc20",
   "metadata": {},
   "outputs": [
    {
     "data": {
      "text/plain": [
       "0    Jefe de Proyecto\n",
       "1    Jefe de Proyecto\n",
       "2    Jefe de Proyecto\n",
       "3    Jefe de Proyecto\n",
       "4    Jefe de Proyecto\n",
       "Name: Categoria 2025, dtype: object"
      ]
     },
     "execution_count": 83,
     "metadata": {},
     "output_type": "execute_result"
    }
   ],
   "source": [
    "df_likert['Categoria 2025'].head()"
   ]
  },
  {
   "cell_type": "code",
   "execution_count": 84,
   "id": "394c5a38",
   "metadata": {},
   "outputs": [],
   "source": [
    "def generar_grafico_radar_categoria(categoria):\n",
    "\n",
    "    promedio_dimension_gerente_25 = df_likert[df_likert['Categoria 2025'] == categoria].groupby(['Dimension'])['Valor'].mean().reset_index()\n",
    "    promedio_dimension_gerente_25['year'] = '2025'\n",
    "    promedio_dimension_gerente_23 = df_2023[df_2023['Area'] == categoria].groupby(['Dimension'])['Valor'].mean().reset_index()\n",
    "    promedio_dimension_gerente_23['year'] = '2023'\n",
    "    promedio_dimension_categoria = pd.concat([promedio_dimension_gerente_25, promedio_dimension_gerente_23], ignore_index=True)\n",
    "    promedio_dimension_categoria['Valor']=promedio_dimension_categoria['Valor'].astype(float).round(1)\n",
    "\n",
    "    generar_grafico_radar(promedio_dimension_categoria, nombre_archivo=categoria + \" radar_dimension\", theta=\"Dimension\", color= 'year')"
   ]
  },
  {
   "cell_type": "code",
   "execution_count": 85,
   "id": "7c6c0568",
   "metadata": {},
   "outputs": [],
   "source": [
    "generar_grafico_radar_categoria(\"Gerente\")"
   ]
  },
  {
   "cell_type": "code",
   "execution_count": 86,
   "id": "0c176d2c",
   "metadata": {},
   "outputs": [],
   "source": [
    "lista_categorias = [\"Gerente\",\n",
    "                    \"Diseñador\",\n",
    "                    \"Gestor de Proyecto\",\n",
    "                    \"Ing Intermedio\",\n",
    "                    \"Ing Junior\",\n",
    "                    \"Ing Senior\",\n",
    "                    \"Jefe de Proyecto\"]"
   ]
  },
  {
   "cell_type": "code",
   "execution_count": 87,
   "id": "e2d6a61b",
   "metadata": {},
   "outputs": [],
   "source": [
    "for categ in lista_categorias:\n",
    "    generar_grafico_radar_categoria(categ)"
   ]
  },
  {
   "cell_type": "markdown",
   "id": "3e879bde",
   "metadata": {},
   "source": [
    "# Gráficos 2025 por categoría"
   ]
  },
  {
   "cell_type": "code",
   "execution_count": 88,
   "id": "211e7bc5",
   "metadata": {},
   "outputs": [],
   "source": [
    "def promedio_dimension_categoria(DataSet, grupo = ['Dimension']):\n",
    "    \n",
    "    # 1. Promedia el resultados por persona componeten y dimension\n",
    "    promedio_dimension_componente_persona = DataSet.groupby(['Dimension','Subdimension', 'Categoria 2025', 'Persona'])['Valor'].mean().reset_index()\n",
    "    \n",
    "    # 2. Promedia esos resultados por dimension y componetn\n",
    "    promedio_dimension = promedio_dimension_componente_persona.groupby(grupo)['Valor'].mean().reset_index()\n",
    "  \n",
    "    return promedio_dimension"
   ]
  },
  {
   "cell_type": "code",
   "execution_count": 89,
   "id": "f22d7f1b",
   "metadata": {},
   "outputs": [],
   "source": [
    "df_promedio_categorias_2025 = promedio_dimension_categoria(df_likert, grupo = ['Dimension', 'Categoria 2025'])"
   ]
  },
  {
   "cell_type": "code",
   "execution_count": 90,
   "id": "a9a5cc52",
   "metadata": {},
   "outputs": [],
   "source": [
    "df_promedio_categorias_2025['Valor'] = df_promedio_categorias_2025['Valor'].astype(float).round(1)"
   ]
  },
  {
   "cell_type": "code",
   "execution_count": 91,
   "id": "e55899af",
   "metadata": {},
   "outputs": [],
   "source": [
    "generar_grafico_radar(df_promedio_categorias_2025, \n",
    "                      nombre_archivo=\"radar_categorias_2025\",\n",
    "                      theta=\"Dimension\",\n",
    "                      color=\"Categoria 2025\")"
   ]
  },
  {
   "cell_type": "code",
   "execution_count": 92,
   "id": "33456b1c",
   "metadata": {},
   "outputs": [],
   "source": [
    "def generar_grafico_radar_2(df, nombre_archivo, theta, color=None):\n",
    "    fig = px.line_polar(\n",
    "        df, \n",
    "        r=\"Valor\",\n",
    "        theta=theta,\n",
    "        line_close=True,\n",
    "        color=color,\n",
    "        template=\"none\"\n",
    "    )\n",
    "\n",
    "    fig.update_layout(\n",
    "        polar=dict(\n",
    "            radialaxis=dict(\n",
    "                visible=True,\n",
    "                range=[1, 5],\n",
    "                dtick=1\n",
    "            )\n",
    "        ),\n",
    "        legend_title_text=''\n",
    "    )\n",
    "\n",
    "    ruta_salida = \"plots3/\"\n",
    "    ruta_completa = os.path.join(ruta_salida, f\"{nombre_archivo}.png\")\n",
    "    fig.write_image(ruta_completa, width=800, height=600)\n"
   ]
  },
  {
   "cell_type": "code",
   "execution_count": 93,
   "id": "8e5c7e28",
   "metadata": {},
   "outputs": [],
   "source": [
    "generar_grafico_radar_2(df_promedio_categorias_2025, \n",
    "                      nombre_archivo=\"radar_categorias_2025\",\n",
    "                      theta=\"Dimension\",\n",
    "                      color=\"Categoria 2025\")"
   ]
  },
  {
   "cell_type": "code",
   "execution_count": 94,
   "id": "37eaae70",
   "metadata": {},
   "outputs": [],
   "source": [
    "orden_personalizado = ['Gerente', 'Gestor de Proyecto', 'Jefe de Proyecto', 'Ing Senior', 'Ing Intermedio',\n",
    "                       'Ing Junior', 'Diseñador']"
   ]
  },
  {
   "cell_type": "code",
   "execution_count": 95,
   "id": "1211680d",
   "metadata": {},
   "outputs": [],
   "source": [
    "def generar_grafico_radar_3(df, nombre_archivo, theta, color=None, orden_categorias=None):\n",
    "    if color and orden_categorias:\n",
    "        df[color] = pd.Categorical(df[color], categories=orden_categorias, ordered=True)\n",
    "\n",
    "    fig = px.line_polar(\n",
    "        df, \n",
    "        r=\"Valor\",\n",
    "        theta=theta,\n",
    "        line_close=True,\n",
    "        color=color,\n",
    "        template=\"none\"\n",
    "    )\n",
    "\n",
    "    fig.update_layout(\n",
    "        polar=dict(\n",
    "            radialaxis=dict(\n",
    "                visible=True,\n",
    "                range=[1, 5],\n",
    "                dtick=1\n",
    "            )\n",
    "        ),\n",
    "        legend_title_text=''\n",
    "    )\n",
    "\n",
    "    ruta_salida = \"plots3/\"\n",
    "    ruta_completa = os.path.join(ruta_salida, f\"{nombre_archivo}.png\")\n",
    "    fig.write_image(ruta_completa, width=800, height=600)"
   ]
  },
  {
   "cell_type": "code",
   "execution_count": 96,
   "id": "7afa4948",
   "metadata": {},
   "outputs": [],
   "source": [
    "generar_grafico_radar_3(df_promedio_categorias_2025, \n",
    "                      nombre_archivo=\"radar_categorias_2025_ordenado\",\n",
    "                      theta=\"Dimension\",\n",
    "                      color=\"Categoria 2025\",\n",
    "                      orden_categorias=orden_personalizado)"
   ]
  },
  {
   "cell_type": "code",
   "execution_count": 97,
   "id": "f4f9dac4",
   "metadata": {},
   "outputs": [],
   "source": [
    "def porcentaje_4_5(df):\n",
    "        \n",
    "    # Filtrar valores no nulos\n",
    "    valores_validos = df['Valor'].dropna()\n",
    "\n",
    "    # Contar cuántos marcaron 4 o 5\n",
    "    conteo_4_5 = valores_validos.isin([4, 5]).sum()\n",
    "\n",
    "    # Calcular el total de respuestas válidas (no NA)\n",
    "    total_respuestas = len(valores_validos)\n",
    "\n",
    "    # Calcular el porcentaje\n",
    "    porcentaje_4_5 = (conteo_4_5 / total_respuestas) * 100\n",
    "\n",
    "    print(f\"Porcentaje de personas que marcaron 4 o 5: {porcentaje_4_5:.2f}%\")\n"
   ]
  },
  {
   "cell_type": "code",
   "execution_count": 98,
   "id": "2391453b",
   "metadata": {},
   "outputs": [
    {
     "name": "stdout",
     "output_type": "stream",
     "text": [
      "Porcentaje de personas que marcaron 4 o 5: 48.98%\n"
     ]
    }
   ],
   "source": [
    "porcentaje_4_5(df_9_1_1)"
   ]
  },
  {
   "cell_type": "code",
   "execution_count": 99,
   "id": "59c2e1af",
   "metadata": {},
   "outputs": [
    {
     "name": "stdout",
     "output_type": "stream",
     "text": [
      "Porcentaje de personas que marcaron 4 o 5: 78.00%\n"
     ]
    }
   ],
   "source": [
    "porcentaje_4_5(df_9_1_2)"
   ]
  },
  {
   "cell_type": "code",
   "execution_count": 100,
   "id": "4bb10106",
   "metadata": {},
   "outputs": [
    {
     "name": "stdout",
     "output_type": "stream",
     "text": [
      "Porcentaje de personas que marcaron 4 o 5: 72.00%\n"
     ]
    }
   ],
   "source": [
    "porcentaje_4_5(df_9_1_3)"
   ]
  },
  {
   "cell_type": "code",
   "execution_count": 101,
   "id": "884e681e",
   "metadata": {},
   "outputs": [
    {
     "name": "stdout",
     "output_type": "stream",
     "text": [
      "Porcentaje de personas que marcaron 4 o 5: 48.21%\n"
     ]
    }
   ],
   "source": [
    "porcentaje_4_5(df_9_2_1)"
   ]
  },
  {
   "cell_type": "code",
   "execution_count": 102,
   "id": "b12b2a3c",
   "metadata": {},
   "outputs": [
    {
     "name": "stdout",
     "output_type": "stream",
     "text": [
      "Porcentaje de personas que marcaron 4 o 5: 51.79%\n"
     ]
    }
   ],
   "source": [
    "porcentaje_4_5(df_9_2_2)"
   ]
  },
  {
   "cell_type": "code",
   "execution_count": 103,
   "id": "4d53ae38",
   "metadata": {},
   "outputs": [
    {
     "name": "stdout",
     "output_type": "stream",
     "text": [
      "Porcentaje de personas que marcaron 4 o 5: 55.36%\n"
     ]
    }
   ],
   "source": [
    "porcentaje_4_5(df_9_2_3)"
   ]
  },
  {
   "cell_type": "code",
   "execution_count": 104,
   "id": "1b907714",
   "metadata": {},
   "outputs": [
    {
     "name": "stdout",
     "output_type": "stream",
     "text": [
      "Porcentaje de personas que marcaron 4 o 5: 53.57%\n"
     ]
    }
   ],
   "source": [
    "porcentaje_4_5(df_9_2_4)"
   ]
  },
  {
   "cell_type": "code",
   "execution_count": 105,
   "id": "7e544ac3",
   "metadata": {},
   "outputs": [
    {
     "name": "stdout",
     "output_type": "stream",
     "text": [
      "Porcentaje de personas que marcaron 4 o 5: 53.57%\n"
     ]
    }
   ],
   "source": [
    "porcentaje_4_5(df_9_2_5)"
   ]
  },
  {
   "cell_type": "markdown",
   "id": "cd8c76f0",
   "metadata": {},
   "source": [
    "# Gráficos por componente 23 vs 25"
   ]
  },
  {
   "cell_type": "markdown",
   "id": "85e9cfea",
   "metadata": {},
   "source": [
    "## Estrategia"
   ]
  },
  {
   "cell_type": "code",
   "execution_count": 106,
   "id": "07785c87",
   "metadata": {},
   "outputs": [],
   "source": [
    "# generar promedio por componente 23 y unirlo a 2025\n",
    "df_comp_23 = promedio_dimension(df_2023, grupo=['Dimension', 'Subdimension'])"
   ]
  },
  {
   "cell_type": "code",
   "execution_count": 107,
   "id": "8d5439c1",
   "metadata": {},
   "outputs": [],
   "source": [
    "df_comp_23['Subdimension'] = df_comp_23['Subdimension'].str.replace('\\n', '', regex=False)"
   ]
  },
  {
   "cell_type": "code",
   "execution_count": 108,
   "id": "878b87ff",
   "metadata": {},
   "outputs": [],
   "source": [
    "reemplazos_comp = {\n",
    "    \"1.1 Definición del Gestión del Conocimiento en la organización\":\"1.3 Definición de GC\",\n",
    "    \"1.3 Responsable\":\"1.1 Responsable\",\n",
    "    \"2.5 Motivación e incentivos\": \"2.5 Motivación\",\n",
    "    \"3.1 Matriz de conocimiento estratégico\": \"3.1 Matriz\",\n",
    "    \"3.3 Procesos de gestión del conocimiento\": \"3.3 Procesos de GC\",\n",
    "    \"5.2 Indicadores de generación de valor\": \"5.2 Ind. de valor\"\n",
    "}\n",
    "\n",
    "# Reemplazar en la tabla de totales\n",
    "df_comp_23[\"Subdimension\"] = df_comp_23[\"Subdimension\"].replace(reemplazos_comp)"
   ]
  },
  {
   "cell_type": "code",
   "execution_count": 109,
   "id": "a6ebc851",
   "metadata": {},
   "outputs": [],
   "source": [
    "df_comp_23['year'] = '2023'"
   ]
  },
  {
   "cell_type": "code",
   "execution_count": 110,
   "id": "7c045b43",
   "metadata": {},
   "outputs": [],
   "source": [
    "df_comp_total['year'] = '2025'"
   ]
  },
  {
   "cell_type": "code",
   "execution_count": 111,
   "id": "1a915fbe",
   "metadata": {},
   "outputs": [],
   "source": [
    "df_comp_23_25 = pd.concat([df_comp_23, df_comp_total.drop('Categoria', axis=1)], ignore_index=True)"
   ]
  },
  {
   "cell_type": "code",
   "execution_count": 112,
   "id": "9c4cdff1",
   "metadata": {},
   "outputs": [
    {
     "data": {
      "application/vnd.microsoft.datawrangler.viewer.v0+json": {
       "columns": [
        {
         "name": "index",
         "rawType": "int64",
         "type": "integer"
        },
        {
         "name": "Dimension",
         "rawType": "object",
         "type": "string"
        },
        {
         "name": "Subdimension",
         "rawType": "object",
         "type": "string"
        },
        {
         "name": "Valor",
         "rawType": "float64",
         "type": "float"
        },
        {
         "name": "year",
         "rawType": "object",
         "type": "string"
        }
       ],
       "conversionMethod": "pd.DataFrame",
       "ref": "a7b9a853-8cd8-4337-a4c8-e3d8091a63ab",
       "rows": [
        [
         "0",
         "1. Estrategia",
         "1.3 Definición de GC",
         "3.2793650793650793",
         "2023"
        ],
        [
         "1",
         "1. Estrategia",
         "1.2 Plan estratégico",
         "3.4886904761904765",
         "2023"
        ],
        [
         "2",
         "1. Estrategia",
         "1.1 Responsable",
         "3.261904761904762",
         "2023"
        ],
        [
         "3",
         "1. Estrategia",
         "1.4 Presupuesto",
         "3.25",
         "2023"
        ],
        [
         "4",
         "2. Humana",
         "2.1 Liderazgo",
         "3.593073593073593",
         "2023"
        ]
       ],
       "shape": {
        "columns": 4,
        "rows": 5
       }
      },
      "text/html": [
       "<div>\n",
       "<style scoped>\n",
       "    .dataframe tbody tr th:only-of-type {\n",
       "        vertical-align: middle;\n",
       "    }\n",
       "\n",
       "    .dataframe tbody tr th {\n",
       "        vertical-align: top;\n",
       "    }\n",
       "\n",
       "    .dataframe thead th {\n",
       "        text-align: right;\n",
       "    }\n",
       "</style>\n",
       "<table border=\"1\" class=\"dataframe\">\n",
       "  <thead>\n",
       "    <tr style=\"text-align: right;\">\n",
       "      <th></th>\n",
       "      <th>Dimension</th>\n",
       "      <th>Subdimension</th>\n",
       "      <th>Valor</th>\n",
       "      <th>year</th>\n",
       "    </tr>\n",
       "  </thead>\n",
       "  <tbody>\n",
       "    <tr>\n",
       "      <th>0</th>\n",
       "      <td>1. Estrategia</td>\n",
       "      <td>1.3 Definición de GC</td>\n",
       "      <td>3.279365</td>\n",
       "      <td>2023</td>\n",
       "    </tr>\n",
       "    <tr>\n",
       "      <th>1</th>\n",
       "      <td>1. Estrategia</td>\n",
       "      <td>1.2 Plan estratégico</td>\n",
       "      <td>3.488690</td>\n",
       "      <td>2023</td>\n",
       "    </tr>\n",
       "    <tr>\n",
       "      <th>2</th>\n",
       "      <td>1. Estrategia</td>\n",
       "      <td>1.1 Responsable</td>\n",
       "      <td>3.261905</td>\n",
       "      <td>2023</td>\n",
       "    </tr>\n",
       "    <tr>\n",
       "      <th>3</th>\n",
       "      <td>1. Estrategia</td>\n",
       "      <td>1.4 Presupuesto</td>\n",
       "      <td>3.250000</td>\n",
       "      <td>2023</td>\n",
       "    </tr>\n",
       "    <tr>\n",
       "      <th>4</th>\n",
       "      <td>2. Humana</td>\n",
       "      <td>2.1 Liderazgo</td>\n",
       "      <td>3.593074</td>\n",
       "      <td>2023</td>\n",
       "    </tr>\n",
       "  </tbody>\n",
       "</table>\n",
       "</div>"
      ],
      "text/plain": [
       "       Dimension          Subdimension     Valor  year\n",
       "0  1. Estrategia  1.3 Definición de GC  3.279365  2023\n",
       "1  1. Estrategia  1.2 Plan estratégico  3.488690  2023\n",
       "2  1. Estrategia       1.1 Responsable  3.261905  2023\n",
       "3  1. Estrategia       1.4 Presupuesto  3.250000  2023\n",
       "4      2. Humana         2.1 Liderazgo  3.593074  2023"
      ]
     },
     "execution_count": 112,
     "metadata": {},
     "output_type": "execute_result"
    }
   ],
   "source": [
    "df_comp_23_25.head()"
   ]
  },
  {
   "cell_type": "code",
   "execution_count": 113,
   "id": "11d14463",
   "metadata": {},
   "outputs": [],
   "source": [
    "df_comp_23_25['Valor'] = df_comp_23_25['Valor'].astype(float).round(1)"
   ]
  },
  {
   "cell_type": "code",
   "execution_count": 114,
   "id": "6e1a4ca1",
   "metadata": {},
   "outputs": [],
   "source": [
    "generar_grafico_radar(df_comp_23_25[df_comp_23_25['Dimension'] == '1. Estrategia'], \n",
    "                      nombre_archivo=\"radar_estrategia_vs\",\n",
    "                      theta=\"Subdimension\",\n",
    "                      color = 'year')"
   ]
  },
  {
   "cell_type": "code",
   "execution_count": 115,
   "id": "2d54cf40",
   "metadata": {},
   "outputs": [],
   "source": [
    "lista_dimension = ['1. Estrategia',\n",
    "                   '2. Humana',\n",
    "                   '3. Procesos',\n",
    "                   '4. Tecnología',\n",
    "                   '5. Indicadores']"
   ]
  },
  {
   "cell_type": "code",
   "execution_count": 116,
   "id": "1ccd191f",
   "metadata": {},
   "outputs": [],
   "source": [
    "for dim in lista_dimension:\n",
    "    generar_grafico_radar(df_comp_23_25[df_comp_23_25['Dimension'] == dim], \n",
    "                      nombre_archivo=dim+\"_radar_vs\",\n",
    "                      theta=\"Subdimension\",\n",
    "                      color = 'year')"
   ]
  },
  {
   "cell_type": "code",
   "execution_count": 117,
   "id": "7addacc4",
   "metadata": {},
   "outputs": [],
   "source": [
    "generar_grafico_radar(df_comp_23_25[df_comp_23_25['Dimension'] == '4. Tecnología'], \n",
    "                      nombre_archivo=\"radar_tecnología_vs\",\n",
    "                      theta=\"Subdimension\",\n",
    "                      color = 'year')"
   ]
  },
  {
   "cell_type": "code",
   "execution_count": null,
   "id": "6d0b0186",
   "metadata": {},
   "outputs": [],
   "source": []
  }
 ],
 "metadata": {
  "kernelspec": {
   "display_name": "Python 3 (ipykernel)",
   "language": "python",
   "name": "python3"
  },
  "language_info": {
   "codemirror_mode": {
    "name": "ipython",
    "version": 3
   },
   "file_extension": ".py",
   "mimetype": "text/x-python",
   "name": "python",
   "nbconvert_exporter": "python",
   "pygments_lexer": "ipython3",
   "version": "3.12.7"
  }
 },
 "nbformat": 4,
 "nbformat_minor": 5
}
