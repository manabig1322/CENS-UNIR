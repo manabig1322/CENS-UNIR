{
 "cells": [
  {
   "cell_type": "code",
   "execution_count": 1,
   "id": "9ba01151-5263-451e-b566-3c050a7d9774",
   "metadata": {},
   "outputs": [],
   "source": [
    "import pandas as pd\n",
    "import sys\n",
    "ruta_modulos = \"C:/Users/manab/OneDrive/Escritorio/Maestría Big Data/Segundo año/Practica Profesional/CENS\"\n",
    "if ruta_modulos not in sys.path:\n",
    "    sys.path.append(ruta_modulos)\n",
    "from limpieza import LimpiezaDatos\n",
    "from calculos import CalcularPromedioDimension, CalculosPromediosComponenteDataSet,calcularPromedioTotalComponente, promedio_dimension#,calcularPromedioTotalDimension#,calcularPromedioTotalComponente,calcularPromedioTotalCategoria,\n",
    "from utils import AgregarComponenteFaltantes, AgregarConteoPreguntasSeleccionMultiple, AgregarConteoPreguntasLikert #, AgregarCategoria2025\n",
    "from graficos import generar_grafico_radar, generar_graficas_componentes_total,generar_grafica_radar_total, GenerarGraficaComponente, GenerarGraficaPorPreguntaLikert,GenerarGraficaPorPregunta,GenerarGraficaRadarDimensiones #,graficar_por_categoria\n",
    "\n"
   ]
  },
  {
   "cell_type": "code",
   "execution_count": 2,
   "id": "838e1e32-a65d-4245-bc17-57d792254e30",
   "metadata": {},
   "outputs": [],
   "source": [
    "df_2025Directivos = pd.read_excel(ruta_modulos+'/Encuesta GC 9 de Mayo 2025.xlsx',sheet_name=\"Hoja1\")\n",
    "df_2025PreguntasDirectivo =  pd.read_excel(ruta_modulos+'/encuesta_diagnóstico_alternativa_directivos_170325.xlsx',sheet_name=\"Hoja1\",header=0)"
   ]
  },
  {
   "cell_type": "code",
   "execution_count": 3,
   "id": "3a46ece4-66f1-4308-bb29-1c65d01d4902",
   "metadata": {},
   "outputs": [],
   "source": [
    "df_2025Directivos,df_2025PreguntasDirectivo = LimpiezaDatos(df_2025Directivos,df_2025PreguntasDirectivo)\n"
   ]
  },
  {
   "cell_type": "code",
   "execution_count": null,
   "id": "ee55711d-0c78-4b7b-a2d2-172ee0eceff4",
   "metadata": {},
   "outputs": [],
   "source": [
    "    \n",
    "df_ListadoPreguntasLikertDirectiva2025 =  df_2025Directivos[df_2025Directivos['TipoPregunta'].isin(['Likert', 'Texto'])] #AgregarConteoPreguntasLikert(df_2025Directivos)\n",
    "df_ListadoPreguntasLikertDirectiva2025 = df_ListadoPreguntasLikertDirectiva2025[~((df_ListadoPreguntasLikertDirectiva2025['TipoPregunta'] == \"Texto\") & ((df_ListadoPreguntasLikertDirectiva2025['Valor'] == 3) | (df_ListadoPreguntasLikertDirectiva2025['Valor'].isna())))]\n",
    "df_promedio_dimension_total_2025 = promedio_dimension(df_ListadoPreguntasLikertDirectiva2025)\n",
    "df_promedio_dimension_total_2025['Valor'] = df_promedio_dimension_total_2025['Valor'].astype(float).round(1)\n",
    "\n",
    "generar_grafica_radar_total(df_promedio_dimension_total_2025,'Dimension','Valor')\n",
    "generar_grafico_radar(df_promedio_dimension_total_2025,'Dimension','Valor')"
   ]
  },
  {
   "cell_type": "code",
   "execution_count": 5,
   "id": "3f4c9378-1193-4de3-9d1f-337a7815359b",
   "metadata": {},
   "outputs": [],
   "source": [
    "# Generar las tablas total y vs\n",
    "df_comp_total = promedio_dimension(df_ListadoPreguntasLikertDirectiva2025, grupo = ['Dimension','Subdimension'])\n"
   ]
  },
  {
   "cell_type": "code",
   "execution_count": 6,
   "id": "6e282d4d-5329-465a-b489-7e60f17fa367",
   "metadata": {},
   "outputs": [],
   "source": [
    "df_comp_total = AgregarComponenteFaltantes(df_2025PreguntasDirectivo, df_comp_total,\"Dimension\",\"Subdimension\",\"Valor\")\n",
    "# Convertir a valor numérico y redondear a un decimal\n",
    "df_comp_total['Valor'] = df_comp_total['Valor'].astype(float).round(1)\n",
    "\n",
    "# Ordenar \n",
    "df_comp_total = df_comp_total.sort_values(by=[\"Dimension\", \"Subdimension\"])"
   ]
  },
  {
   "cell_type": "code",
   "execution_count": 7,
   "id": "03fa6d77-f9e3-4aee-8260-f85e651216cb",
   "metadata": {},
   "outputs": [
    {
     "name": "stdout",
     "output_type": "stream",
     "text": [
      "['1. Responsable' '2. Plan estratégico'\n",
      " '3. Definición de gestión del conocimiento' '4. Presupuesto'\n",
      " '1. Liderazgo' '2. Cultura' '3. Comunidades de Conocimiento'\n",
      " '4. Redes de Conocimiento' '5. Motivación' '1. Matriz de conocimiento'\n",
      " '2. Ciclos de conversión' '3. Procesos' '4. Roles' '1. Uso de tecnología'\n",
      " '2. Tipo de tecnología' '1. Operativos' '2. Valor']\n"
     ]
    }
   ],
   "source": [
    "valores = df_comp_total['Subdimension'].unique()\n",
    "print(valores)"
   ]
  },
  {
   "cell_type": "code",
   "execution_count": null,
   "id": "19e3e093-737f-44ae-a4ed-a7b096bf89d4",
   "metadata": {},
   "outputs": [],
   "source": [
    "generar_grafico_radar(df_comp_total[df_comp_total['Dimension'] == \"1. Estrategia y direccion\"], \n",
    "                      nombre_archivo = 'prom_estrategia_total', \n",
    "                      theta=\"Subdimension\")\n",
    "generar_grafico_radar(df_comp_total[df_comp_total['Dimension'] == \"2. Humana\"], \n",
    "                      nombre_archivo = 'prom_estrategia_total', \n",
    "                      theta=\"Subdimension\")\n",
    "generar_grafico_radar(df_comp_total[df_comp_total['Dimension'] == \"3. Procesos\"], \n",
    "                      nombre_archivo = 'prom_estrategia_total', \n",
    "                      theta=\"Subdimension\")\n",
    "generar_grafico_radar(df_comp_total[df_comp_total['Dimension'] == \"4. Tecnologia\"], \n",
    "                      nombre_archivo = 'prom_estrategia_total', \n",
    "                      theta=\"Subdimension\")\n",
    "generar_grafico_radar(df_comp_total[df_comp_total['Dimension'] == \"5. Indicadores\"], \n",
    "                      nombre_archivo = 'prom_estrategia_total', \n",
    "                      theta=\"Subdimension\")"
   ]
  },
  {
   "cell_type": "code",
   "execution_count": null,
   "id": "70c82cb4-1c61-49c4-b4b1-f39a84f77e8e",
   "metadata": {},
   "outputs": [],
   "source": [
    "generar_graficas_componentes_total(df_comp_total)"
   ]
  },
  {
   "cell_type": "code",
   "execution_count": null,
   "id": "4628504a-7b16-4251-bd22-8ad52f38bfa3",
   "metadata": {},
   "outputs": [],
   "source": [
    "df_preguntasLikertDirectiva2025 = AgregarConteoPreguntasLikert(df_2025Directivos)\n",
    "GenerarGraficaPorPreguntaLikert(df_preguntasLikertDirectiva2025,\"Directiva\",df_2025PreguntasDirectivo)"
   ]
  },
  {
   "cell_type": "code",
   "execution_count": null,
   "id": "4c4498cb-0d67-4e56-b77d-7bffad66b7db",
   "metadata": {},
   "outputs": [],
   "source": []
  }
 ],
 "metadata": {
  "kernelspec": {
   "display_name": "Python 3 (ipykernel)",
   "language": "python",
   "name": "python3"
  },
  "language_info": {
   "codemirror_mode": {
    "name": "ipython",
    "version": 3
   },
   "file_extension": ".py",
   "mimetype": "text/x-python",
   "name": "python",
   "nbconvert_exporter": "python",
   "pygments_lexer": "ipython3",
   "version": "3.12.7"
  }
 },
 "nbformat": 4,
 "nbformat_minor": 5
}
